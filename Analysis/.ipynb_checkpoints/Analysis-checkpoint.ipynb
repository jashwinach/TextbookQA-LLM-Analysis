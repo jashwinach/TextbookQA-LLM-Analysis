{
 "cells": [
  {
   "cell_type": "code",
   "execution_count": 1,
   "id": "4c24a5e8",
   "metadata": {
    "scrolled": true
   },
   "outputs": [],
   "source": [
    "import base64\n",
    "import json\n",
    "import requests\n",
    "import pandas as pd\n",
    "import os\n",
    "from dotenv import load_dotenv\n",
    "from collections import defaultdict\n",
    "import ast\n",
    "load_dotenv()\n",
    "\n",
    "# Custom OpenAI API key\n",
    "openai_api_key = os.getenv('OPENAI_API_KEY')"
   ]
  },
  {
   "cell_type": "markdown",
   "id": "90c22b24",
   "metadata": {},
   "source": [
    "<h2>BLIP-2 Analysis</h2>"
   ]
  },
  {
   "cell_type": "code",
   "execution_count": 2,
   "id": "ec317543",
   "metadata": {
    "scrolled": true
   },
   "outputs": [],
   "source": [
    "# Load BLIP-2 dataset with generated answers\n",
    "blip2_answers = pd.read_csv(\"blip2_answers.csv\")\n",
    "wrong_blip2_preds = blip2_answers[blip2_answers[\"correct_answer\"].str.lower() != blip2_answers[\"mapped_predictions\"].str.lower()]\n",
    "wrong_blip2_preds.to_csv(\"wrong_blip2_preds.csv\", index=False)"
   ]
  },
  {
   "cell_type": "code",
   "execution_count": 3,
   "id": "841d3b72",
   "metadata": {
    "scrolled": true
   },
   "outputs": [
    {
     "data": {
      "text/plain": [
       "introduction to plants                    537\n",
       "flow of energy                            444\n",
       "insects and other arthropods              310\n",
       "evolution and classification of plants    116\n",
       "echinoderms and invertebrate chordates     42\n",
       "climate and its causes                     31\n",
       "Name: lesson_name, dtype: int64"
      ]
     },
     "execution_count": 3,
     "metadata": {},
     "output_type": "execute_result"
    }
   ],
   "source": [
    "# Check which categories is BLIP-2 struggling with the most\n",
    "wrong_blip2_preds[\"lesson_name\"].value_counts()"
   ]
  },
  {
   "cell_type": "markdown",
   "id": "a730e4e8",
   "metadata": {},
   "source": [
    "<h3> BLIP-2 analysis </h3>"
   ]
  },
  {
   "cell_type": "code",
   "execution_count": 5,
   "id": "757ebb9f",
   "metadata": {
    "scrolled": true
   },
   "outputs": [],
   "source": [
    "# This function returns those images that have either defined or undefined labels. This is essential to understanding\n",
    "# what types of images do our VLMs fail on.\n",
    "def return_val_counts(df, has_labels):\n",
    "    questions = df[df[\"image_has_labels_to_guess\"] == has_labels]\n",
    "    return questions[\"image_path\"].value_counts()"
   ]
  },
  {
   "cell_type": "code",
   "execution_count": 6,
   "id": "b24d5250",
   "metadata": {
    "scrolled": true
   },
   "outputs": [
    {
     "data": {
      "text/plain": [
       "../Dataset/test/abc_question_images/parts_plant_11160.png            5\n",
       "../Dataset/test/abc_question_images/life_cycles_16223.png            5\n",
       "../Dataset/test/abc_question_images/parts_plant_13579.png            5\n",
       "../Dataset/test/abc_question_images/types_leaves_14425.png           5\n",
       "../Dataset/test/abc_question_images/parts_flower_13366.png           5\n",
       "../Dataset/test/abc_question_images/parts_flower_13364.png           5\n",
       "../Dataset/test/abc_question_images/life_cycles_10035.png            5\n",
       "../Dataset/test/abc_question_images/life_cycles_16216.png            5\n",
       "../Dataset/test/abc_question_images/parts_leaf_13106.png             5\n",
       "../Dataset/test/abc_question_images/parts_leaf_16266.png             4\n",
       "../Dataset/test/abc_question_images/parts_leaf_16262.png             4\n",
       "../Dataset/test/abc_question_images/types_leaves_14711.png           4\n",
       "../Dataset/test/abc_question_images/rain_shadow_17525.png            4\n",
       "../Dataset/test/abc_question_images/parts_plant_11145.png            4\n",
       "../Dataset/test/abc_question_images/life_cycles_16210.png            4\n",
       "../Dataset/test/abc_question_images/parts_plant_13195.png            4\n",
       "../Dataset/test/abc_question_images/life_cycles_12400.png            4\n",
       "../Dataset/test/abc_question_images/parts_plant_13217.png            4\n",
       "../Dataset/test/abc_question_images/types_leaves_14402.png           4\n",
       "../Dataset/test/abc_question_images/life_cycles_12271.png            4\n",
       "../Dataset/test/abc_question_images/types_leaves_14728.png           4\n",
       "../Dataset/test/abc_question_images/parts_flower_11144.png           4\n",
       "../Dataset/test/abc_question_images/parts_leaf_11123.png             4\n",
       "../Dataset/test/abc_question_images/parts_flower_13424.png           4\n",
       "../Dataset/test/abc_question_images/parts_flower_13417.png           4\n",
       "../Dataset/test/abc_question_images/life_cycles_16226.png            4\n",
       "../Dataset/test/abc_question_images/types_leaves_10979.png           4\n",
       "../Dataset/test/abc_question_images/types_leaves_14708.png           3\n",
       "../Dataset/test/abc_question_images/parts_flower_11014.png           3\n",
       "../Dataset/test/abc_question_images/parts_flower_11137.png           3\n",
       "../Dataset/test/abc_question_images/rain_shadow_17534.png            3\n",
       "../Dataset/test/abc_question_images/types_leaves_14441.png           3\n",
       "../Dataset/test/abc_question_images/types_leaves_14726.png           3\n",
       "../Dataset/test/abc_question_images/parts_flower_13360.png           3\n",
       "../Dataset/test/abc_question_images/parts_seed_17249.png             3\n",
       "../Dataset/test/abc_question_images/types_leaves_14825.png           3\n",
       "../Dataset/test/abc_question_images/types_leaves_14408.png           3\n",
       "../Dataset/test/abc_question_images/parts_seed_17247.png             3\n",
       "../Dataset/test/abc_question_images/life_cycles_10884.png            3\n",
       "../Dataset/test/abc_question_images/life_cycles_10595.png            3\n",
       "../Dataset/test/abc_question_images/life_cycles_12181.png            3\n",
       "../Dataset/test/abc_question_images/types_leaves_11029.png           3\n",
       "../Dataset/test/abc_question_images/life_cycles_10586.png            3\n",
       "../Dataset/test/abc_question_images/types_leaves_10959.png           3\n",
       "../Dataset/test/abc_question_images/parts_leaf_13853.png             3\n",
       "../Dataset/test/abc_question_images/parts_leaf_16267.png             3\n",
       "../Dataset/test/abc_question_images/parts_chordate_body_17163.png    3\n",
       "../Dataset/test/abc_question_images/rain_shadow_17536.png            3\n",
       "../Dataset/test/abc_question_images/parts_chordate_body_17156.png    3\n",
       "../Dataset/test/abc_question_images/parts_chordate_body_17154.png    3\n",
       "../Dataset/test/abc_question_images/parts_chordate_body_17152.png    3\n",
       "../Dataset/test/abc_question_images/parts_leaf_11105.png             3\n",
       "../Dataset/test/abc_question_images/parts_leaf_11117.png             3\n",
       "../Dataset/test/abc_question_images/life_cycles_16224.png            3\n",
       "../Dataset/test/abc_question_images/parts_leaf_13133.png             3\n",
       "../Dataset/test/abc_question_images/parts_leaf_13134.png             3\n",
       "../Dataset/test/abc_question_images/parts_leaf_16264.png             3\n",
       "../Dataset/test/abc_question_images/parts_flower_13425.png           3\n",
       "../Dataset/test/abc_question_images/parts_plant_16272.png            3\n",
       "../Dataset/test/abc_question_images/life_cycles_12404.png            3\n",
       "Name: image_path, dtype: int64"
      ]
     },
     "execution_count": 6,
     "metadata": {},
     "output_type": "execute_result"
    }
   ],
   "source": [
    "# Get all images with undefined labels and that BLIP-2 answered questions incorrectly for\n",
    "val_counts = return_val_counts(wrong_blip2_preds, \"Yes\")\n",
    "val_counts[0:60]"
   ]
  },
  {
   "cell_type": "code",
   "execution_count": 7,
   "id": "b487d78c",
   "metadata": {
    "scrolled": true
   },
   "outputs": [
    {
     "data": {
      "text/plain": [
       "../Dataset/test/abc_question_images/parts_leaf_10558.png             4\n",
       "../Dataset/test/abc_question_images/rain_shadow_17535.png            4\n",
       "../Dataset/test/abc_question_images/life_cycles_10650.png            3\n",
       "../Dataset/test/abc_question_images/parts_flower_11137.png           3\n",
       "../Dataset/test/abc_question_images/life_cycles_10580.png            3\n",
       "../Dataset/test/abc_question_images/life_cycles_12290.png            3\n",
       "../Dataset/test/abc_question_images/types_leaves_11021.png           2\n",
       "../Dataset/test/abc_question_images/life_cycles_16211.png            2\n",
       "../Dataset/test/abc_question_images/parts_plant_16274.png            2\n",
       "../Dataset/test/abc_question_images/parts_seed_10003.png             2\n",
       "../Dataset/test/abc_question_images/rain_shadow_17524.png            2\n",
       "../Dataset/test/abc_question_images/life_cycles_12249.png            2\n",
       "../Dataset/test/abc_question_images/types_leaves_11029.png           2\n",
       "../Dataset/test/abc_question_images/parts_plant_13195.png            2\n",
       "../Dataset/test/abc_question_images/life_cycles_10579.png            2\n",
       "../Dataset/test/abc_question_images/life_cycles_10043.png            2\n",
       "../Dataset/test/abc_question_images/parts_plant_13201.png            2\n",
       "../Dataset/test/abc_question_images/life_cycles_12400.png            2\n",
       "../Dataset/test/abc_question_images/parts_plant_13164.png            2\n",
       "../Dataset/test/abc_question_images/parts_leaf_13149.png             2\n",
       "../Dataset/test/abc_question_images/parts_leaf_11121.png             2\n",
       "../Dataset/test/abc_question_images/parts_leaf_13133.png             2\n",
       "../Dataset/test/abc_question_images/life_cycles_16215.png            2\n",
       "../Dataset/test/abc_question_images/life_cycles_16227.png            2\n",
       "../Dataset/test/abc_question_images/parts_flower_13425.png           2\n",
       "../Dataset/test/abc_question_images/parts_leaf_16264.png             2\n",
       "../Dataset/test/abc_question_images/life_cycles_12333.png            1\n",
       "../Dataset/test/abc_question_images/life_cycles_10586.png            1\n",
       "../Dataset/test/abc_question_images/parts_seed_13811.png             1\n",
       "../Dataset/test/abc_question_images/parts_seed_17249.png             1\n",
       "../Dataset/test/abc_question_images/parts_flower_13372.png           1\n",
       "../Dataset/test/abc_question_images/parts_chordate_body_17162.png    1\n",
       "../Dataset/test/abc_question_images/parts_chordate_body_17159.png    1\n",
       "../Dataset/test/abc_question_images/parts_chordate_body_17156.png    1\n",
       "../Dataset/test/abc_question_images/life_cycles_10044.png            1\n",
       "../Dataset/test/abc_question_images/life_cycles_16210.png            1\n",
       "../Dataset/test/abc_question_images/parts_chordate_body_17153.png    1\n",
       "../Dataset/test/abc_question_images/life_cycles_10595.png            1\n",
       "../Dataset/test/abc_question_images/life_cycles_16225.png            1\n",
       "../Dataset/test/abc_question_images/life_cycles_12427.png            1\n",
       "../Dataset/test/abc_question_images/life_cycles_10831.png            1\n",
       "../Dataset/test/abc_question_images/life_cycles_16224.png            1\n",
       "../Dataset/test/abc_question_images/life_cycles_10887.png            1\n",
       "../Dataset/test/abc_question_images/life_cycles_11446.png            1\n",
       "../Dataset/test/abc_question_images/life_cycles_12404.png            1\n",
       "../Dataset/test/abc_question_images/life_cycles_16226.png            1\n",
       "../Dataset/test/abc_question_images/life_cycles_12267.png            1\n",
       "../Dataset/test/abc_question_images/life_cycles_10884.png            1\n",
       "../Dataset/test/abc_question_images/parts_flower_11014.png           1\n",
       "../Dataset/test/abc_question_images/parts_flower_13419.png           1\n",
       "../Dataset/test/abc_question_images/types_leaves_10961.png           1\n",
       "../Dataset/test/abc_question_images/parts_leaf_11094.png             1\n",
       "../Dataset/test/abc_question_images/parts_leaf_11105.png             1\n",
       "../Dataset/test/abc_question_images/parts_leaf_11118.png             1\n",
       "../Dataset/test/abc_question_images/parts_leaf_13113.png             1\n",
       "../Dataset/test/abc_question_images/parts_leaf_13135.png             1\n",
       "../Dataset/test/abc_question_images/parts_leaf_13137.png             1\n",
       "../Dataset/test/abc_question_images/parts_leaf_13853.png             1\n",
       "../Dataset/test/abc_question_images/parts_plant_11155.png            1\n",
       "../Dataset/test/abc_question_images/parts_plant_11160.png            1\n",
       "Name: image_path, dtype: int64"
      ]
     },
     "execution_count": 7,
     "metadata": {},
     "output_type": "execute_result"
    }
   ],
   "source": [
    "# Get all images that BLIP-2 correctly guessed answers for and where the image labels are not defined.\n",
    "correct_blip2_preds = blip2_answers[blip2_answers[\"correct_answer\"] == blip2_answers[\"mapped_predictions\"]]\n",
    "correct_blip2_preds.to_csv(\"correct_blip2_preds.csv\", index=False)\n",
    "val_counts = return_val_counts(correct_blip2_preds, \"Yes\")\n",
    "val_counts[0:60]"
   ]
  },
  {
   "cell_type": "code",
   "execution_count": 8,
   "id": "a508cf4b",
   "metadata": {
    "scrolled": true
   },
   "outputs": [],
   "source": [
    "# Get all images and questions that BLIP-2 gave wrong predictions for and where image labels are defined\n",
    "val_counts = return_val_counts(wrong_blip2_preds, \"No\")"
   ]
  },
  {
   "cell_type": "code",
   "execution_count": 9,
   "id": "6bc7239f",
   "metadata": {
    "scrolled": false
   },
   "outputs": [],
   "source": [
    "# Get all images and questions that BLIP-2 gave correct predictions for and where image labels are defined\n",
    "val_counts = return_val_counts(correct_blip2_preds, \"No\")"
   ]
  },
  {
   "cell_type": "markdown",
   "id": "e6dd63ca",
   "metadata": {},
   "source": [
    "<h2> LLaVA Analysis </h2>"
   ]
  },
  {
   "cell_type": "code",
   "execution_count": 10,
   "id": "7b73c825",
   "metadata": {},
   "outputs": [],
   "source": [
    "all_llava_preds = pd.read_csv(\"llava_7B_answers.csv\")\n",
    "correct_llava_preds = all_llava_preds[all_llava_preds[\"correct_answer\"].str.lower() == all_llava_preds[\"llava_generated_answers\"].str.lower()]\n",
    "correct_llava_preds.to_csv(\"correct_llava_preds.csv\", index=False)\n",
    "wrong_llava_preds = all_llava_preds[all_llava_preds[\"correct_answer\"].str.lower() != all_llava_preds[\"llava_generated_answers\"].str.lower()]\n",
    "wrong_llava_preds.to_csv(\"wrong_llava_preds.csv\", index=False)"
   ]
  },
  {
   "cell_type": "markdown",
   "id": "efe53c3f",
   "metadata": {},
   "source": [
    "<h3>Examine Image Complexity</h3>"
   ]
  },
  {
   "cell_type": "code",
   "execution_count": 11,
   "id": "fcd67e4c",
   "metadata": {
    "scrolled": true
   },
   "outputs": [
    {
     "data": {
      "text/plain": [
       "../Dataset/test/abc_question_images/types_leaves_14425.png           5\n",
       "../Dataset/test/abc_question_images/parts_plant_13217.png            5\n",
       "../Dataset/test/abc_question_images/parts_leaf_16264.png             5\n",
       "../Dataset/test/abc_question_images/life_cycles_10580.png            5\n",
       "../Dataset/test/abc_question_images/life_cycles_16210.png            5\n",
       "../Dataset/test/abc_question_images/parts_plant_11160.png            5\n",
       "../Dataset/test/abc_question_images/parts_plant_13195.png            5\n",
       "../Dataset/test/abc_question_images/parts_plant_13579.png            5\n",
       "../Dataset/test/abc_question_images/parts_flower_13366.png           5\n",
       "../Dataset/test/abc_question_images/parts_flower_13425.png           4\n",
       "../Dataset/test/abc_question_images/parts_seed_17249.png             4\n",
       "../Dataset/test/abc_question_images/life_cycles_12400.png            4\n",
       "../Dataset/test/abc_question_images/life_cycles_12290.png            4\n",
       "../Dataset/test/abc_question_images/parts_flower_13417.png           4\n",
       "../Dataset/test/abc_question_images/life_cycles_10650.png            4\n",
       "../Dataset/test/abc_question_images/life_cycles_16216.png            4\n",
       "../Dataset/test/abc_question_images/life_cycles_16223.png            4\n",
       "../Dataset/test/abc_question_images/life_cycles_12271.png            4\n",
       "../Dataset/test/abc_question_images/parts_flower_13364.png           4\n",
       "../Dataset/test/abc_question_images/parts_leaf_10558.png             4\n",
       "../Dataset/test/abc_question_images/life_cycles_10586.png            4\n",
       "../Dataset/test/abc_question_images/life_cycles_10579.png            4\n",
       "../Dataset/test/abc_question_images/life_cycles_16227.png            4\n",
       "../Dataset/test/abc_question_images/parts_chordate_body_17156.png    4\n",
       "../Dataset/test/abc_question_images/life_cycles_16224.png            4\n",
       "../Dataset/test/abc_question_images/parts_leaf_11105.png             4\n",
       "../Dataset/test/abc_question_images/types_leaves_14496.png           3\n",
       "../Dataset/test/abc_question_images/life_cycles_10884.png            3\n",
       "../Dataset/test/abc_question_images/types_leaves_14726.png           3\n",
       "../Dataset/test/abc_question_images/rain_shadow_17525.png            3\n",
       "../Dataset/test/abc_question_images/types_leaves_11021.png           3\n",
       "../Dataset/test/abc_question_images/types_leaves_14708.png           3\n",
       "../Dataset/test/abc_question_images/types_leaves_14711.png           3\n",
       "../Dataset/test/abc_question_images/types_leaves_11029.png           3\n",
       "../Dataset/test/abc_question_images/types_leaves_14400.png           3\n",
       "../Dataset/test/abc_question_images/types_leaves_14402.png           3\n",
       "../Dataset/test/abc_question_images/life_cycles_10831.png            3\n",
       "../Dataset/test/abc_question_images/types_leaves_14408.png           3\n",
       "../Dataset/test/abc_question_images/life_cycles_10595.png            3\n",
       "../Dataset/test/abc_question_images/types_leaves_10979.png           3\n",
       "../Dataset/test/abc_question_images/parts_seed_17247.png             3\n",
       "../Dataset/test/abc_question_images/parts_plant_13201.png            3\n",
       "../Dataset/test/abc_question_images/life_cycles_12249.png            3\n",
       "../Dataset/test/abc_question_images/parts_leaf_13134.png             3\n",
       "../Dataset/test/abc_question_images/rain_shadow_17536.png            3\n",
       "../Dataset/test/abc_question_images/parts_chordate_body_17159.png    3\n",
       "../Dataset/test/abc_question_images/parts_flower_13360.png           3\n",
       "../Dataset/test/abc_question_images/parts_chordate_body_17152.png    3\n",
       "../Dataset/test/abc_question_images/parts_leaf_11123.png             3\n",
       "../Dataset/test/abc_question_images/parts_leaf_13106.png             3\n",
       "../Dataset/test/abc_question_images/parts_flower_11144.png           3\n",
       "../Dataset/test/abc_question_images/parts_leaf_13133.png             3\n",
       "../Dataset/test/abc_question_images/life_cycles_16215.png            3\n",
       "../Dataset/test/abc_question_images/parts_flower_11137.png           3\n",
       "../Dataset/test/abc_question_images/parts_leaf_13853.png             3\n",
       "../Dataset/test/abc_question_images/parts_leaf_16262.png             3\n",
       "../Dataset/test/abc_question_images/parts_leaf_16266.png             3\n",
       "../Dataset/test/abc_question_images/parts_leaf_16267.png             3\n",
       "../Dataset/test/abc_question_images/parts_flower_11014.png           3\n",
       "../Dataset/test/abc_question_images/parts_flower_13424.png           3\n",
       "Name: image_path, dtype: int64"
      ]
     },
     "execution_count": 11,
     "metadata": {},
     "output_type": "execute_result"
    }
   ],
   "source": [
    "# Get all images that have undefined labels and whose questions were answered incorrectly by LLaVA\n",
    "val_counts = return_val_counts(wrong_llava_preds, \"Yes\")\n",
    "val_counts[0:60]"
   ]
  },
  {
   "cell_type": "code",
   "execution_count": 12,
   "id": "591e261c",
   "metadata": {},
   "outputs": [
    {
     "data": {
      "text/plain": [
       "../Dataset/test/abc_question_images/rain_shadow_17535.png            5\n",
       "../Dataset/test/abc_question_images/rain_shadow_17534.png            3\n",
       "../Dataset/test/abc_question_images/parts_plant_13164.png            3\n",
       "../Dataset/test/abc_question_images/life_cycles_10035.png            3\n",
       "../Dataset/test/abc_question_images/life_cycles_16226.png            3\n",
       "../Dataset/test/abc_question_images/parts_leaf_13149.png             3\n",
       "../Dataset/test/abc_question_images/parts_plant_11145.png            3\n",
       "../Dataset/test/abc_question_images/parts_flower_11137.png           3\n",
       "../Dataset/test/abc_question_images/parts_seed_10003.png             2\n",
       "../Dataset/test/abc_question_images/parts_plant_13577.png            2\n",
       "../Dataset/test/abc_question_images/life_cycles_12427.png            2\n",
       "../Dataset/test/abc_question_images/life_cycles_12404.png            2\n",
       "../Dataset/test/abc_question_images/types_leaves_10988.png           2\n",
       "../Dataset/test/abc_question_images/life_cycles_12400.png            2\n",
       "../Dataset/test/abc_question_images/types_leaves_10959.png           2\n",
       "../Dataset/test/abc_question_images/types_leaves_11029.png           2\n",
       "../Dataset/test/abc_question_images/types_leaves_14387.png           2\n",
       "../Dataset/test/abc_question_images/types_leaves_14390.png           2\n",
       "../Dataset/test/abc_question_images/life_cycles_12181.png            2\n",
       "../Dataset/test/abc_question_images/parts_plant_11155.png            2\n",
       "../Dataset/test/abc_question_images/life_cycles_16211.png            2\n",
       "../Dataset/test/abc_question_images/types_leaves_14441.png           2\n",
       "../Dataset/test/abc_question_images/parts_leaf_13844.png             2\n",
       "../Dataset/test/abc_question_images/life_cycles_16222.png            2\n",
       "../Dataset/test/abc_question_images/parts_leaf_13133.png             2\n",
       "../Dataset/test/abc_question_images/parts_leaf_13106.png             2\n",
       "../Dataset/test/abc_question_images/parts_chordate_body_17154.png    2\n",
       "../Dataset/test/abc_question_images/life_cycles_10043.png            2\n",
       "../Dataset/test/abc_question_images/life_cycles_10887.png            1\n",
       "../Dataset/test/abc_question_images/parts_seed_17243.png             1\n",
       "../Dataset/test/abc_question_images/parts_flower_13372.png           1\n",
       "../Dataset/test/abc_question_images/life_cycles_10883.png            1\n",
       "../Dataset/test/abc_question_images/life_cycles_10044.png            1\n",
       "../Dataset/test/abc_question_images/life_cycles_10884.png            1\n",
       "../Dataset/test/abc_question_images/life_cycles_10608.png            1\n",
       "../Dataset/test/abc_question_images/life_cycles_10650.png            1\n",
       "../Dataset/test/abc_question_images/life_cycles_10595.png            1\n",
       "../Dataset/test/abc_question_images/life_cycles_12267.png            1\n",
       "../Dataset/test/abc_question_images/rain_shadow_17524.png            1\n",
       "../Dataset/test/abc_question_images/life_cycles_12290.png            1\n",
       "../Dataset/test/abc_question_images/life_cycles_12300.png            1\n",
       "../Dataset/test/abc_question_images/life_cycles_12331.png            1\n",
       "../Dataset/test/abc_question_images/life_cycles_12333.png            1\n",
       "../Dataset/test/abc_question_images/life_cycles_12366.png            1\n",
       "../Dataset/test/abc_question_images/parts_flower_13425.png           1\n",
       "../Dataset/test/abc_question_images/life_cycles_16215.png            1\n",
       "../Dataset/test/abc_question_images/life_cycles_16216.png            1\n",
       "../Dataset/test/abc_question_images/life_cycles_16219.png            1\n",
       "../Dataset/test/abc_question_images/life_cycles_16223.png            1\n",
       "../Dataset/test/abc_question_images/life_cycles_16225.png            1\n",
       "../Dataset/test/abc_question_images/parts_chordate_body_17162.png    1\n",
       "../Dataset/test/abc_question_images/parts_chordate_body_17163.png    1\n",
       "../Dataset/test/abc_question_images/parts_chordate_body_18146.png    1\n",
       "../Dataset/test/abc_question_images/life_cycles_12373.png            1\n",
       "../Dataset/test/abc_question_images/types_leaves_14825.png           1\n",
       "../Dataset/test/abc_question_images/parts_flower_13424.png           1\n",
       "../Dataset/test/abc_question_images/parts_flower_13417.png           1\n",
       "../Dataset/test/abc_question_images/parts_plant_16272.png            1\n",
       "../Dataset/test/abc_question_images/parts_plant_13195.png            1\n",
       "../Dataset/test/abc_question_images/parts_plant_11160.png            1\n",
       "Name: image_path, dtype: int64"
      ]
     },
     "execution_count": 12,
     "metadata": {},
     "output_type": "execute_result"
    }
   ],
   "source": [
    "# Get all images that LLaVA correctly guessed answers for and where the image labels are not provided\n",
    "val_counts = return_val_counts(correct_llava_preds, \"Yes\")\n",
    "val_counts[:60]"
   ]
  },
  {
   "cell_type": "code",
   "execution_count": 13,
   "id": "9aa6322a",
   "metadata": {},
   "outputs": [
    {
     "data": {
      "text/plain": [
       "../Dataset/test/question_images/food_chains_webs_435.png        8\n",
       "../Dataset/test/question_images/food_chains_webs_6061.png       8\n",
       "../Dataset/test/question_images/food_chains_webs_805.png        8\n",
       "../Dataset/test/question_images/food_chains_webs_823.png        7\n",
       "../Dataset/test/question_images/life_cycles_580.png             7\n",
       "../Dataset/test/question_images/food_chains_webs_821.png        7\n",
       "../Dataset/test/question_images/food_chains_webs_293.png        7\n",
       "../Dataset/test/question_images/food_chains_webs_799.png        7\n",
       "../Dataset/test/question_images/parts_leaf_6265.png             6\n",
       "../Dataset/test/question_images/food_chains_webs_250.png        6\n",
       "../Dataset/test/question_images/food_chains_webs_311.png        6\n",
       "../Dataset/test/question_images/food_chains_webs_2111.png       6\n",
       "../Dataset/test/question_images/parts_flower_3798.png           6\n",
       "../Dataset/test/question_images/food_chains_webs_6058.png       6\n",
       "../Dataset/test/question_images/food_chains_webs_6057.png       6\n",
       "../Dataset/test/question_images/food_chains_webs_389.png        6\n",
       "../Dataset/test/question_images/food_chains_webs_809.png        6\n",
       "../Dataset/test/question_images/food_chains_webs_281.png        6\n",
       "../Dataset/test/question_images/parts_plant_3195.png            6\n",
       "../Dataset/test/question_images/parts_leaf_3853.png             6\n",
       "../Dataset/test/question_images/food_chains_webs_2018.png       6\n",
       "../Dataset/test/question_images/food_chains_webs_538.png        6\n",
       "../Dataset/test/question_images/life_cycles_592.png             6\n",
       "../Dataset/test/question_images/food_chains_webs_6039.png       6\n",
       "../Dataset/test/question_images/life_cycles_2185.png            6\n",
       "../Dataset/test/question_images/life_cycles_6220.png            6\n",
       "../Dataset/test/question_images/life_cycles_2252.png            5\n",
       "../Dataset/test/question_images/food_chains_webs_30.png         5\n",
       "../Dataset/test/question_images/food_chains_webs_1807.png       5\n",
       "../Dataset/test/question_images/life_cycles_2459.png            5\n",
       "../Dataset/test/question_images/food_chains_webs_303.png        5\n",
       "../Dataset/test/question_images/food_chains_webs_705.png        5\n",
       "../Dataset/test/question_images/parts_chordate_body_7151.png    5\n",
       "../Dataset/test/question_images/life_cycles_2485.png            5\n",
       "../Dataset/test/question_images/food_chains_webs_6038.png       5\n",
       "../Dataset/test/question_images/food_chains_webs_802.png        5\n",
       "../Dataset/test/question_images/parts_plant_6275.png            5\n",
       "../Dataset/test/question_images/food_chains_webs_6051.png       5\n",
       "../Dataset/test/question_images/life_cycles_2442.png            5\n",
       "../Dataset/test/question_images/food_chains_webs_1767.png       5\n",
       "../Dataset/test/question_images/food_chains_webs_6029.png       5\n",
       "../Dataset/test/question_images/food_chains_webs_324.png        5\n",
       "../Dataset/test/question_images/food_chains_webs_1766.png       5\n",
       "../Dataset/test/question_images/types_leaves_4428.png           5\n",
       "../Dataset/test/question_images/parts_plant_3791.png            5\n",
       "../Dataset/test/question_images/types_leaves_4393.png           5\n",
       "../Dataset/test/question_images/parts_plant_3789.png            5\n",
       "../Dataset/test/question_images/life_cycles_2175.png            5\n",
       "../Dataset/test/question_images/food_chains_webs_6055.png       5\n",
       "../Dataset/test/question_images/food_chains_webs_443.png        5\n",
       "../Dataset/test/question_images/food_chains_webs_6030.png       5\n",
       "../Dataset/test/question_images/food_chains_webs_6041.png       5\n",
       "../Dataset/test/question_images/food_chains_webs_6034.png       5\n",
       "../Dataset/test/question_images/types_leaves_6320.png           5\n",
       "../Dataset/test/question_images/food_chains_webs_861.png        5\n",
       "../Dataset/test/question_images/parts_leaf_1117.png             5\n",
       "../Dataset/test/question_images/food_chains_webs_2105.png       5\n",
       "../Dataset/test/question_images/parts_flower_3024.png           5\n",
       "../Dataset/test/question_images/food_chains_webs_2098.png       5\n",
       "../Dataset/test/question_images/food_chains_webs_879.png        5\n",
       "Name: image_path, dtype: int64"
      ]
     },
     "execution_count": 13,
     "metadata": {},
     "output_type": "execute_result"
    }
   ],
   "source": [
    "# Get all images and questions that LLaVA gave wrong predictions for and where image labels are provided\n",
    "val_counts = return_val_counts(wrong_llava_preds, \"No\")\n",
    "val_counts[:60]"
   ]
  },
  {
   "cell_type": "code",
   "execution_count": 14,
   "id": "c5ccc74f",
   "metadata": {},
   "outputs": [
    {
     "data": {
      "text/plain": [
       "../Dataset/test/question_images/food_chains_webs_6047.png    7\n",
       "../Dataset/test/question_images/food_chains_webs_6054.png    7\n",
       "../Dataset/test/question_images/food_chains_webs_897.png     7\n",
       "../Dataset/test/question_images/food_chains_webs_475.png     7\n",
       "../Dataset/test/question_images/food_chains_webs_6033.png    7\n",
       "../Dataset/test/question_images/parts_plant_3579.png         6\n",
       "../Dataset/test/question_images/food_chains_webs_2124.png    6\n",
       "../Dataset/test/question_images/life_cycles_43.png           6\n",
       "../Dataset/test/question_images/food_chains_webs_800.png     6\n",
       "../Dataset/test/question_images/food_chains_webs_258.png     6\n",
       "../Dataset/test/question_images/parts_flower_3426.png        6\n",
       "../Dataset/test/question_images/food_chains_webs_808.png     6\n",
       "../Dataset/test/question_images/life_cycles_2454.png         6\n",
       "../Dataset/test/question_images/life_cycles_2267.png         6\n",
       "../Dataset/test/question_images/food_chains_webs_867.png     6\n",
       "../Dataset/test/question_images/food_chains_webs_881.png     6\n",
       "../Dataset/test/question_images/life_cycles_2400.png         6\n",
       "../Dataset/test/question_images/food_chains_webs_2104.png    5\n",
       "../Dataset/test/question_images/food_chains_webs_274.png     5\n",
       "../Dataset/test/question_images/life_cycles_579.png          5\n",
       "../Dataset/test/question_images/parts_plant_3164.png         5\n",
       "../Dataset/test/question_images/parts_plant_1160.png         5\n",
       "../Dataset/test/question_images/parts_flower_3381.png        5\n",
       "../Dataset/test/question_images/life_cycles_55.png           5\n",
       "../Dataset/test/question_images/food_chains_webs_294.png     5\n",
       "../Dataset/test/question_images/food_chains_webs_269.png     5\n",
       "../Dataset/test/question_images/food_chains_webs_275.png     5\n",
       "../Dataset/test/question_images/parts_leaf_3860.png          5\n",
       "../Dataset/test/question_images/parts_plant_3217.png         5\n",
       "../Dataset/test/question_images/parts_leaf_556.png           5\n",
       "../Dataset/test/question_images/parts_flower_3425.png        5\n",
       "../Dataset/test/question_images/parts_flower_3948.png        5\n",
       "../Dataset/test/question_images/food_chains_webs_19.png      5\n",
       "../Dataset/test/question_images/life_cycles_608.png          5\n",
       "../Dataset/test/question_images/parts_leaf_6263.png          5\n",
       "../Dataset/test/question_images/parts_plant_1155.png         5\n",
       "../Dataset/test/question_images/parts_plant_6273.png         5\n",
       "../Dataset/test/question_images/food_chains_webs_1768.png    5\n",
       "../Dataset/test/question_images/life_cycles_671.png          5\n",
       "../Dataset/test/question_images/parts_flower_3424.png        5\n",
       "../Dataset/test/question_images/life_cycles_887.png          5\n",
       "../Dataset/test/question_images/food_chains_webs_316.png     5\n",
       "../Dataset/test/question_images/parts_leaf_3134.png          5\n",
       "../Dataset/test/question_images/life_cycles_2349.png         5\n",
       "../Dataset/test/question_images/food_chains_webs_913.png     5\n",
       "../Dataset/test/question_images/types_leaves_4513.png        5\n",
       "../Dataset/test/question_images/types_leaves_4728.png        5\n",
       "../Dataset/test/question_images/life_cycles_2404.png         5\n",
       "../Dataset/test/question_images/food_chains_webs_874.png     5\n",
       "../Dataset/test/question_images/parts_leaf_1088.png          5\n",
       "../Dataset/test/question_images/food_chains_webs_820.png     5\n",
       "../Dataset/test/question_images/parts_leaf_1105.png          5\n",
       "../Dataset/test/question_images/life_cycles_342.png          5\n",
       "../Dataset/test/question_images/life_cycles_2300.png         5\n",
       "../Dataset/test/question_images/food_chains_webs_801.png     5\n",
       "../Dataset/test/question_images/parts_flower_1014.png        5\n",
       "../Dataset/test/question_images/parts_flower_1151.png        5\n",
       "../Dataset/test/question_images/food_chains_webs_6040.png    5\n",
       "../Dataset/test/question_images/parts_leaf_1121.png          5\n",
       "../Dataset/test/question_images/food_chains_webs_6037.png    5\n",
       "Name: image_path, dtype: int64"
      ]
     },
     "execution_count": 14,
     "metadata": {},
     "output_type": "execute_result"
    }
   ],
   "source": [
    "# Get all images and questions that LLaVA correctly guessed answers for and where image labels are provided\n",
    "val_counts = return_val_counts(correct_llava_preds, \"No\")\n",
    "val_counts[:60]"
   ]
  },
  {
   "cell_type": "code",
   "execution_count": 15,
   "id": "d2e6ce81",
   "metadata": {},
   "outputs": [
    {
     "data": {
      "text/plain": [
       "No     2831\n",
       "Yes     454\n",
       "Name: image_has_labels_to_guess, dtype: int64"
      ]
     },
     "execution_count": 15,
     "metadata": {},
     "output_type": "execute_result"
    }
   ],
   "source": [
    "all_llava_preds[\"image_has_labels_to_guess\"].value_counts()"
   ]
  },
  {
   "cell_type": "markdown",
   "id": "f8558cc2",
   "metadata": {},
   "source": [
    "<h2> GPT-4 Analysis </h2>\n",
    "\n",
    "We perform manual image checks to understand the complexity of the image"
   ]
  },
  {
   "cell_type": "code",
   "execution_count": 16,
   "id": "4cb5dd0a",
   "metadata": {},
   "outputs": [],
   "source": [
    "gpt4_preds = pd.read_csv(\"../GPT4/GPT_4_preds.csv\")\n",
    "wrong_gpt4_preds = gpt4_preds[gpt4_preds[\"correct_answer\"].str.lower() != gpt4_preds[\"gpt4_generated_answers\"].str.lower()]\n",
    "correct_gpt4_preds = gpt4_preds[gpt4_preds[\"correct_answer\"].str.lower() == gpt4_preds[\"gpt4_generated_answers\"].str.lower()]\n",
    "wrong_gpt4_preds.to_csv(\"wrong_gpt4_preds.csv\")\n",
    "correct_gpt4_preds.to_csv(\"correct_gpt4_preds.csv\")"
   ]
  },
  {
   "cell_type": "code",
   "execution_count": 17,
   "id": "e8d5b508",
   "metadata": {},
   "outputs": [
    {
     "data": {
      "text/plain": [
       "../Dataset/test/abc_question_images/parts_leaf_16264.png             4\n",
       "../Dataset/test/abc_question_images/parts_flower_11014.png           4\n",
       "../Dataset/test/abc_question_images/parts_flower_11137.png           4\n",
       "../Dataset/test/abc_question_images/parts_leaf_16266.png             4\n",
       "../Dataset/test/abc_question_images/life_cycles_10580.png            4\n",
       "../Dataset/test/abc_question_images/parts_flower_13366.png           4\n",
       "../Dataset/test/abc_question_images/types_leaves_14759.png           3\n",
       "../Dataset/test/abc_question_images/parts_flower_13424.png           3\n",
       "../Dataset/test/abc_question_images/parts_flower_13425.png           3\n",
       "../Dataset/test/abc_question_images/parts_plant_13217.png            3\n",
       "../Dataset/test/abc_question_images/parts_flower_13417.png           3\n",
       "../Dataset/test/abc_question_images/parts_plant_16272.png            3\n",
       "../Dataset/test/abc_question_images/parts_leaf_13853.png             3\n",
       "../Dataset/test/abc_question_images/types_leaves_10979.png           3\n",
       "../Dataset/test/abc_question_images/parts_flower_13364.png           3\n",
       "../Dataset/test/abc_question_images/types_leaves_14402.png           3\n",
       "../Dataset/test/abc_question_images/parts_leaf_16262.png             3\n",
       "../Dataset/test/abc_question_images/parts_plant_11145.png            3\n",
       "../Dataset/test/abc_question_images/parts_leaf_11105.png             3\n",
       "../Dataset/test/abc_question_images/life_cycles_12400.png            3\n",
       "../Dataset/test/abc_question_images/life_cycles_12404.png            3\n",
       "../Dataset/test/abc_question_images/parts_chordate_body_17152.png    3\n",
       "../Dataset/test/abc_question_images/life_cycles_16227.png            3\n",
       "../Dataset/test/abc_question_images/parts_leaf_13149.png             3\n",
       "../Dataset/test/abc_question_images/life_cycles_16224.png            2\n",
       "../Dataset/test/abc_question_images/types_leaves_14712.png           2\n",
       "../Dataset/test/abc_question_images/types_leaves_14744.png           2\n",
       "../Dataset/test/abc_question_images/parts_chordate_body_17163.png    2\n",
       "../Dataset/test/abc_question_images/rain_shadow_17534.png            2\n",
       "../Dataset/test/abc_question_images/types_leaves_14825.png           2\n",
       "../Dataset/test/abc_question_images/parts_chordate_body_17154.png    2\n",
       "../Dataset/test/abc_question_images/parts_chordate_body_17153.png    2\n",
       "../Dataset/test/abc_question_images/parts_flower_11144.png           2\n",
       "../Dataset/test/abc_question_images/parts_flower_13360.png           2\n",
       "../Dataset/test/abc_question_images/life_cycles_10606.png            2\n",
       "../Dataset/test/abc_question_images/parts_flower_13372.png           2\n",
       "../Dataset/test/abc_question_images/life_cycles_16211.png            2\n",
       "../Dataset/test/abc_question_images/parts_flower_13419.png           2\n",
       "../Dataset/test/abc_question_images/life_cycles_12366.png            2\n",
       "../Dataset/test/abc_question_images/parts_seed_17247.png             2\n",
       "../Dataset/test/abc_question_images/life_cycles_10579.png            2\n",
       "../Dataset/test/abc_question_images/life_cycles_12271.png            2\n",
       "../Dataset/test/abc_question_images/types_leaves_14496.png           2\n",
       "../Dataset/test/abc_question_images/life_cycles_10586.png            2\n",
       "../Dataset/test/abc_question_images/life_cycles_12267.png            2\n",
       "../Dataset/test/abc_question_images/life_cycles_12249.png            2\n",
       "../Dataset/test/abc_question_images/life_cycles_10884.png            2\n",
       "../Dataset/test/abc_question_images/types_leaves_14708.png           2\n",
       "../Dataset/test/abc_question_images/rain_shadow_17525.png            2\n",
       "../Dataset/test/abc_question_images/parts_chordate_body_18147.png    2\n",
       "../Dataset/test/abc_question_images/types_leaves_11029.png           2\n",
       "../Dataset/test/abc_question_images/parts_leaf_13852.png             2\n",
       "../Dataset/test/abc_question_images/parts_plant_11160.png            2\n",
       "../Dataset/test/abc_question_images/parts_plant_13164.png            2\n",
       "../Dataset/test/abc_question_images/parts_plant_13195.png            2\n",
       "../Dataset/test/abc_question_images/parts_leaf_13134.png             2\n",
       "../Dataset/test/abc_question_images/parts_leaf_13133.png             2\n",
       "../Dataset/test/abc_question_images/parts_leaf_13131.png             2\n",
       "../Dataset/test/abc_question_images/parts_leaf_13106.png             2\n",
       "../Dataset/test/abc_question_images/parts_leaf_11123.png             2\n",
       "Name: image_path, dtype: int64"
      ]
     },
     "execution_count": 17,
     "metadata": {},
     "output_type": "execute_result"
    }
   ],
   "source": [
    "# Get all images that have undefined labels and whose questions were answered incorrectly by GPT-4\n",
    "val_counts = return_val_counts(wrong_gpt4_preds, \"Yes\")\n",
    "val_counts[0:60]"
   ]
  },
  {
   "cell_type": "code",
   "execution_count": 18,
   "id": "a7f3beab",
   "metadata": {},
   "outputs": [
    {
     "data": {
      "text/plain": [
       "../Dataset/test/abc_question_images/life_cycles_16216.png            5\n",
       "../Dataset/test/abc_question_images/life_cycles_16223.png            5\n",
       "../Dataset/test/abc_question_images/types_leaves_14425.png           5\n",
       "../Dataset/test/abc_question_images/life_cycles_12290.png            5\n",
       "../Dataset/test/abc_question_images/rain_shadow_17535.png            5\n",
       "../Dataset/test/abc_question_images/life_cycles_10595.png            4\n",
       "../Dataset/test/abc_question_images/parts_leaf_10558.png             4\n",
       "../Dataset/test/abc_question_images/parts_seed_17249.png             4\n",
       "../Dataset/test/abc_question_images/life_cycles_10650.png            4\n",
       "../Dataset/test/abc_question_images/parts_plant_11160.png            4\n",
       "../Dataset/test/abc_question_images/parts_plant_13195.png            4\n",
       "../Dataset/test/abc_question_images/types_leaves_14728.png           4\n",
       "../Dataset/test/abc_question_images/life_cycles_10035.png            4\n",
       "../Dataset/test/abc_question_images/life_cycles_16210.png            4\n",
       "../Dataset/test/abc_question_images/parts_plant_13579.png            4\n",
       "../Dataset/test/abc_question_images/life_cycles_16226.png            4\n",
       "../Dataset/test/abc_question_images/parts_plant_13577.png            3\n",
       "../Dataset/test/abc_question_images/types_leaves_14726.png           3\n",
       "../Dataset/test/abc_question_images/types_leaves_14711.png           3\n",
       "../Dataset/test/abc_question_images/life_cycles_12400.png            3\n",
       "../Dataset/test/abc_question_images/types_leaves_11017.png           3\n",
       "../Dataset/test/abc_question_images/types_leaves_11029.png           3\n",
       "../Dataset/test/abc_question_images/parts_plant_11155.png            3\n",
       "../Dataset/test/abc_question_images/life_cycles_16215.png            3\n",
       "../Dataset/test/abc_question_images/parts_chordate_body_17156.png    3\n",
       "../Dataset/test/abc_question_images/life_cycles_10831.png            3\n",
       "../Dataset/test/abc_question_images/parts_leaf_13133.png             3\n",
       "../Dataset/test/abc_question_images/parts_leaf_13106.png             3\n",
       "../Dataset/test/abc_question_images/life_cycles_12300.png            2\n",
       "../Dataset/test/abc_question_images/parts_flower_13425.png           2\n",
       "../Dataset/test/abc_question_images/types_leaves_14408.png           2\n",
       "../Dataset/test/abc_question_images/life_cycles_10579.png            2\n",
       "../Dataset/test/abc_question_images/types_leaves_14441.png           2\n",
       "../Dataset/test/abc_question_images/life_cycles_12271.png            2\n",
       "../Dataset/test/abc_question_images/life_cycles_10884.png            2\n",
       "../Dataset/test/abc_question_images/types_leaves_14708.png           2\n",
       "../Dataset/test/abc_question_images/parts_seed_10003.png             2\n",
       "../Dataset/test/abc_question_images/life_cycles_11446.png            2\n",
       "../Dataset/test/abc_question_images/parts_flower_11144.png           2\n",
       "../Dataset/test/abc_question_images/parts_flower_13417.png           2\n",
       "../Dataset/test/abc_question_images/rain_shadow_17525.png            2\n",
       "../Dataset/test/abc_question_images/types_leaves_16313.png           2\n",
       "../Dataset/test/abc_question_images/life_cycles_12181.png            2\n",
       "../Dataset/test/abc_question_images/parts_flower_11137.png           2\n",
       "../Dataset/test/abc_question_images/parts_flower_13366.png           2\n",
       "../Dataset/test/abc_question_images/parts_flower_13364.png           2\n",
       "../Dataset/test/abc_question_images/parts_flower_13360.png           2\n",
       "../Dataset/test/abc_question_images/life_cycles_10044.png            2\n",
       "../Dataset/test/abc_question_images/rain_shadow_17524.png            2\n",
       "../Dataset/test/abc_question_images/types_leaves_14400.png           2\n",
       "../Dataset/test/abc_question_images/parts_plant_13164.png            2\n",
       "../Dataset/test/abc_question_images/rain_shadow_17536.png            2\n",
       "../Dataset/test/abc_question_images/parts_chordate_body_17162.png    2\n",
       "../Dataset/test/abc_question_images/parts_chordate_body_17159.png    2\n",
       "../Dataset/test/abc_question_images/parts_leaf_11090.png             2\n",
       "../Dataset/test/abc_question_images/parts_leaf_11121.png             2\n",
       "../Dataset/test/abc_question_images/parts_leaf_11123.png             2\n",
       "../Dataset/test/abc_question_images/life_cycles_16225.png            2\n",
       "../Dataset/test/abc_question_images/life_cycles_16224.png            2\n",
       "../Dataset/test/abc_question_images/parts_leaf_13844.png             2\n",
       "Name: image_path, dtype: int64"
      ]
     },
     "execution_count": 18,
     "metadata": {},
     "output_type": "execute_result"
    }
   ],
   "source": [
    "# Get all images that GPT-4 correctly guessed answers for questions where the image label values are not provided\n",
    "val_counts = return_val_counts(correct_gpt4_preds, \"Yes\")\n",
    "val_counts[0:60]"
   ]
  },
  {
   "cell_type": "code",
   "execution_count": 19,
   "id": "efdf0511",
   "metadata": {},
   "outputs": [
    {
     "data": {
      "text/plain": [
       "No     555\n",
       "Yes    210\n",
       "Name: image_has_labels_to_guess, dtype: int64"
      ]
     },
     "execution_count": 19,
     "metadata": {},
     "output_type": "execute_result"
    }
   ],
   "source": [
    "wrong_gpt4_preds[\"image_has_labels_to_guess\"].value_counts()"
   ]
  },
  {
   "cell_type": "code",
   "execution_count": 20,
   "id": "056c3a4e",
   "metadata": {},
   "outputs": [
    {
     "data": {
      "text/plain": [
       "No     2276\n",
       "Yes     244\n",
       "Name: image_has_labels_to_guess, dtype: int64"
      ]
     },
     "execution_count": 20,
     "metadata": {},
     "output_type": "execute_result"
    }
   ],
   "source": [
    "correct_gpt4_preds[\"image_has_labels_to_guess\"].value_counts()"
   ]
  },
  {
   "cell_type": "code",
   "execution_count": 21,
   "id": "53bd9354",
   "metadata": {},
   "outputs": [
    {
     "data": {
      "text/plain": [
       "No     2831\n",
       "Yes     454\n",
       "Name: image_has_labels_to_guess, dtype: int64"
      ]
     },
     "execution_count": 21,
     "metadata": {},
     "output_type": "execute_result"
    }
   ],
   "source": [
    "gpt4_preds[\"image_has_labels_to_guess\"].value_counts()"
   ]
  },
  {
   "cell_type": "code",
   "execution_count": 22,
   "id": "7ffa2bab",
   "metadata": {},
   "outputs": [
    {
     "data": {
      "text/plain": [
       "../Dataset/test/question_images/food_chains_webs_293.png     6\n",
       "../Dataset/test/question_images/parts_flower_3798.png        5\n",
       "../Dataset/test/question_images/food_chains_webs_6044.png    5\n",
       "../Dataset/test/question_images/food_chains_webs_2104.png    5\n",
       "../Dataset/test/question_images/food_chains_webs_1929.png    5\n",
       "../Dataset/test/question_images/types_leaves_4743.png        4\n",
       "../Dataset/test/question_images/food_chains_webs_273.png     4\n",
       "../Dataset/test/question_images/food_chains_webs_287.png     4\n",
       "../Dataset/test/question_images/food_chains_webs_6059.png    4\n",
       "../Dataset/test/question_images/food_chains_webs_6051.png    4\n",
       "../Dataset/test/question_images/types_leaves_4393.png        4\n",
       "../Dataset/test/question_images/parts_leaf_6270.png          4\n",
       "../Dataset/test/question_images/food_chains_webs_802.png     4\n",
       "../Dataset/test/question_images/food_chains_webs_804.png     4\n",
       "../Dataset/test/question_images/food_chains_webs_444.png     4\n",
       "../Dataset/test/question_images/food_chains_webs_281.png     4\n",
       "../Dataset/test/question_images/types_leaves_4716.png        4\n",
       "../Dataset/test/question_images/life_cycles_580.png          4\n",
       "../Dataset/test/question_images/food_chains_webs_492.png     4\n",
       "../Dataset/test/question_images/food_chains_webs_6064.png    3\n",
       "../Dataset/test/question_images/parts_plant_1051.png         3\n",
       "../Dataset/test/question_images/food_chains_webs_537.png     3\n",
       "../Dataset/test/question_images/life_cycles_2145.png         3\n",
       "../Dataset/test/question_images/food_chains_webs_897.png     3\n",
       "../Dataset/test/question_images/parts_seed_3811.png          3\n",
       "../Dataset/test/question_images/food_chains_webs_311.png     3\n",
       "../Dataset/test/question_images/food_chains_webs_903.png     3\n",
       "../Dataset/test/question_images/food_chains_webs_6050.png    3\n",
       "../Dataset/test/question_images/food_chains_webs_30.png      3\n",
       "../Dataset/test/question_images/parts_flower_3363.png        3\n",
       "../Dataset/test/question_images/food_chains_webs_911.png     3\n",
       "../Dataset/test/question_images/food_chains_webs_913.png     3\n",
       "../Dataset/test/question_images/food_chains_webs_6062.png    3\n",
       "../Dataset/test/question_images/food_chains_webs_288.png     3\n",
       "../Dataset/test/question_images/rain_shadow_7536.png         3\n",
       "../Dataset/test/question_images/parts_plant_6273.png         3\n",
       "../Dataset/test/question_images/food_chains_webs_518.png     3\n",
       "../Dataset/test/question_images/food_chains_webs_921.png     3\n",
       "../Dataset/test/question_images/food_chains_webs_275.png     3\n",
       "../Dataset/test/question_images/types_leaves_4507.png        3\n",
       "../Dataset/test/question_images/food_chains_webs_1766.png    3\n",
       "../Dataset/test/question_images/life_cycles_6220.png         3\n",
       "../Dataset/test/question_images/life_cycles_2266.png         3\n",
       "../Dataset/test/question_images/food_chains_webs_1776.png    3\n",
       "../Dataset/test/question_images/types_leaves_4735.png        3\n",
       "../Dataset/test/question_images/parts_leaf_3113.png          3\n",
       "../Dataset/test/question_images/food_chains_webs_6033.png    3\n",
       "../Dataset/test/question_images/life_cycles_572.png          3\n",
       "../Dataset/test/question_images/food_chains_webs_823.png     3\n",
       "../Dataset/test/question_images/life_cycles_2358.png         3\n",
       "../Dataset/test/question_images/food_chains_webs_814.png     3\n",
       "../Dataset/test/question_images/types_leaves_1024.png        3\n",
       "../Dataset/test/question_images/food_chains_webs_420.png     3\n",
       "../Dataset/test/question_images/food_chains_webs_6038.png    3\n",
       "../Dataset/test/question_images/food_chains_webs_805.png     3\n",
       "../Dataset/test/question_images/life_cycles_2185.png         3\n",
       "../Dataset/test/question_images/life_cycles_2252.png         3\n",
       "../Dataset/test/question_images/types_leaves_959.png         2\n",
       "../Dataset/test/question_images/food_chains_webs_443.png     2\n",
       "../Dataset/test/question_images/food_chains_webs_389.png     2\n",
       "Name: image_path, dtype: int64"
      ]
     },
     "execution_count": 22,
     "metadata": {},
     "output_type": "execute_result"
    }
   ],
   "source": [
    "# Get all images that GPT-4 gave wrong predictions for and where image label values are provided\n",
    "val_counts = return_val_counts(wrong_gpt4_preds, \"No\")\n",
    "val_counts[0:60]"
   ]
  },
  {
   "cell_type": "code",
   "execution_count": 23,
   "id": "61afd147",
   "metadata": {},
   "outputs": [
    {
     "data": {
      "text/plain": [
       "../Dataset/test/question_images/food_chains_webs_471.png     8\n",
       "../Dataset/test/question_images/parts_plant_3579.png         8\n",
       "../Dataset/test/question_images/food_chains_webs_426.png     8\n",
       "../Dataset/test/question_images/food_chains_webs_6054.png    8\n",
       "../Dataset/test/question_images/parts_plant_3164.png         8\n",
       "../Dataset/test/question_images/food_chains_webs_303.png     8\n",
       "../Dataset/test/question_images/food_chains_webs_2124.png    8\n",
       "../Dataset/test/question_images/parts_flower_3426.png        8\n",
       "../Dataset/test/question_images/life_cycles_342.png          8\n",
       "../Dataset/test/question_images/parts_plant_6276.png         8\n",
       "../Dataset/test/question_images/food_chains_webs_6058.png    8\n",
       "../Dataset/test/question_images/parts_leaf_3860.png          7\n",
       "../Dataset/test/question_images/parts_flower_3362.png        7\n",
       "../Dataset/test/question_images/food_chains_webs_801.png     7\n",
       "../Dataset/test/question_images/parts_leaf_3853.png          7\n",
       "../Dataset/test/question_images/food_chains_webs_6061.png    7\n",
       "../Dataset/test/question_images/parts_leaf_556.png           7\n",
       "../Dataset/test/question_images/life_cycles_671.png          7\n",
       "../Dataset/test/question_images/food_chains_webs_799.png     7\n",
       "../Dataset/test/question_images/types_leaves_4446.png        7\n",
       "../Dataset/test/question_images/food_chains_webs_324.png     7\n",
       "../Dataset/test/question_images/life_cycles_592.png          7\n",
       "../Dataset/test/question_images/parts_flower_3383.png        7\n",
       "../Dataset/test/question_images/food_chains_webs_435.png     7\n",
       "../Dataset/test/question_images/food_chains_webs_1858.png    7\n",
       "../Dataset/test/question_images/life_cycles_6227.png         7\n",
       "../Dataset/test/question_images/life_cycles_619.png          7\n",
       "../Dataset/test/question_images/parts_plant_906.png          7\n",
       "../Dataset/test/question_images/parts_seed_7246.png          7\n",
       "../Dataset/test/question_images/food_chains_webs_6036.png    7\n",
       "../Dataset/test/question_images/food_chains_webs_6035.png    7\n",
       "../Dataset/test/question_images/food_chains_webs_6047.png    7\n",
       "../Dataset/test/question_images/parts_flower_3948.png        7\n",
       "../Dataset/test/question_images/life_cycles_608.png          7\n",
       "../Dataset/test/question_images/life_cycles_2349.png         7\n",
       "../Dataset/test/question_images/parts_flower_3425.png        7\n",
       "../Dataset/test/question_images/parts_plant_3217.png         7\n",
       "../Dataset/test/question_images/parts_plant_3195.png         7\n",
       "../Dataset/test/question_images/parts_plant_1155.png         7\n",
       "../Dataset/test/question_images/food_chains_webs_475.png     7\n",
       "../Dataset/test/question_images/parts_flower_3419.png        7\n",
       "../Dataset/test/question_images/life_cycles_47.png           7\n",
       "../Dataset/test/question_images/food_chains_webs_28.png      7\n",
       "../Dataset/test/question_images/food_chains_webs_867.png     7\n",
       "../Dataset/test/question_images/food_chains_webs_821.png     7\n",
       "../Dataset/test/question_images/life_cycles_2459.png         7\n",
       "../Dataset/test/question_images/life_cycles_2454.png         7\n",
       "../Dataset/test/question_images/food_chains_webs_898.png     7\n",
       "../Dataset/test/question_images/life_cycles_2442.png         7\n",
       "../Dataset/test/question_images/food_chains_webs_881.png     7\n",
       "../Dataset/test/question_images/parts_leaf_1091.png          7\n",
       "../Dataset/test/question_images/food_chains_webs_2018.png    7\n",
       "../Dataset/test/question_images/parts_leaf_1113.png          7\n",
       "../Dataset/test/question_images/life_cycles_2404.png         7\n",
       "../Dataset/test/question_images/food_chains_webs_822.png     7\n",
       "../Dataset/test/question_images/parts_leaf_1121.png          7\n",
       "../Dataset/test/question_images/parts_plant_6275.png         7\n",
       "../Dataset/test/question_images/food_chains_webs_2111.png    7\n",
       "../Dataset/test/question_images/parts_leaf_3134.png          7\n",
       "../Dataset/test/question_images/parts_flower_1144.png        7\n",
       "Name: image_path, dtype: int64"
      ]
     },
     "execution_count": 23,
     "metadata": {},
     "output_type": "execute_result"
    }
   ],
   "source": [
    "# Get all images that GPT-4 correctly guessed answers for and where the image label values are provided.\n",
    "val_counts = return_val_counts(correct_gpt4_preds, \"No\")\n",
    "val_counts[0:60]"
   ]
  },
  {
   "cell_type": "markdown",
   "id": "04a48add",
   "metadata": {},
   "source": [
    "<h2> Quick Assessment of True/False questions </h2>\n",
    "\n",
    "We manually check the created CSV files below to understand if a failure pattern exists or not."
   ]
  },
  {
   "cell_type": "code",
   "execution_count": 5,
   "id": "fb584d1c",
   "metadata": {},
   "outputs": [],
   "source": [
    "non_diag_mcq_df = pd.read_csv(\"../Dataset/test/NonDiagram_MCQ_QuestionsData.csv\")\n",
    "true_false_mcq_df = pd.read_csv(\"../Dataset/test/NonDiagram_True_False_QuestionsData.csv\")"
   ]
  },
  {
   "cell_type": "code",
   "execution_count": 7,
   "id": "3c59fe52",
   "metadata": {},
   "outputs": [],
   "source": [
    "wrong_gpt4_mcq_preds = non_diag_mcq_df[non_diag_mcq_df[\"correct_answer\"].str.lower() != non_diag_mcq_df[\"gpt4_generated_answers\"].str.lower()]\n",
    "wrong_gpt4_mcq_preds.to_csv(\"wrong_gpt4_mcq_preds.csv\")\n",
    "wrong_gpt4_tf_preds = true_false_mcq_df[true_false_mcq_df[\"correct_answer\"] != true_false_mcq_df[\"gpt4_generated_answers\"]]\n",
    "wrong_gpt4_tf_preds.to_csv(\"wrong_gpt4_tf_preds.csv\")"
   ]
  },
  {
   "cell_type": "markdown",
   "id": "aa9ff856",
   "metadata": {},
   "source": [
    "<h2> Find common incorrect predictions between BLIP-2 and LLaVA </h2>"
   ]
  },
  {
   "cell_type": "code",
   "execution_count": 184,
   "id": "664396e0",
   "metadata": {},
   "outputs": [],
   "source": [
    "common_blip_llava_preds = pd.merge(wrong_blip2_preds, wrong_llava_preds)\n",
    "gpt4_preds = pd.read_csv(\"../GPT4/GPT_4_preds.csv\")\n",
    "all_gpt4_correct_preds = gpt4_preds[gpt4_preds[\"correct_answer\"].str.lower() == gpt4_preds[\"gpt4_generated_answers\"].str.lower()]"
   ]
  },
  {
   "cell_type": "code",
   "execution_count": 186,
   "id": "afd79523",
   "metadata": {},
   "outputs": [],
   "source": [
    "# Each image has multiple questions associated with it, so we extract only those datapoints where majority of the\n",
    "# answers predicted by GPT4 for a particular question were correct.\n",
    "preds_val_counts = all_gpt4_correct_preds[\"image_path\"].value_counts()\n",
    "all_val_counts = gpt4_preds[\"image_path\"].value_counts()\n",
    "image_paths = []\n",
    "for image_path, question_count in preds_val_counts.items():\n",
    "    total_question_count = all_val_counts[image_path]\n",
    "    fraction = question_count / total_question_count\n",
    "    \n",
    "    # Let's assume that we want all questions for images where GPT-4 had a > 80% success rate\n",
    "    # we do this to ensure that GPT-4 is used to generate descriptions for those images that it\n",
    "    # understood well.\n",
    "    if fraction >= 0.8:\n",
    "        image_paths.append(image_path)\n",
    "filtered_df = all_gpt4_correct_preds[all_gpt4_correct_preds[\"image_path\"].isin(image_paths)]"
   ]
  },
  {
   "cell_type": "code",
   "execution_count": 187,
   "id": "aacc4a71",
   "metadata": {
    "scrolled": false
   },
   "outputs": [
    {
     "data": {
      "text/html": [
       "<div>\n",
       "<style scoped>\n",
       "    .dataframe tbody tr th:only-of-type {\n",
       "        vertical-align: middle;\n",
       "    }\n",
       "\n",
       "    .dataframe tbody tr th {\n",
       "        vertical-align: top;\n",
       "    }\n",
       "\n",
       "    .dataframe thead th {\n",
       "        text-align: right;\n",
       "    }\n",
       "</style>\n",
       "<table border=\"1\" class=\"dataframe\">\n",
       "  <thead>\n",
       "    <tr style=\"text-align: right;\">\n",
       "      <th></th>\n",
       "      <th>Unnamed: 0</th>\n",
       "      <th>lesson_name</th>\n",
       "      <th>question_name</th>\n",
       "      <th>answer_choice_1</th>\n",
       "      <th>answer_choice_2</th>\n",
       "      <th>answer_choice_3</th>\n",
       "      <th>answer_choice_4</th>\n",
       "      <th>correct_answer</th>\n",
       "      <th>image_path</th>\n",
       "      <th>image_has_labels_to_guess</th>\n",
       "      <th>caption</th>\n",
       "      <th>blip_2_generated_answers</th>\n",
       "      <th>mapped_predictions</th>\n",
       "      <th>llava_generated_answers</th>\n",
       "      <th>gpt4_generated_answers</th>\n",
       "    </tr>\n",
       "  </thead>\n",
       "  <tbody>\n",
       "    <tr>\n",
       "      <th>0</th>\n",
       "      <td>19</td>\n",
       "      <td>climate and its causes</td>\n",
       "      <td>Moist air comes from what area in the diagram?</td>\n",
       "      <td>Atacama desert</td>\n",
       "      <td>The Andes slopes</td>\n",
       "      <td>Clouds</td>\n",
       "      <td>Forest</td>\n",
       "      <td>Forest</td>\n",
       "      <td>../Dataset/test/question_images/rain_shadow_75...</td>\n",
       "      <td>No</td>\n",
       "      <td>a diagram of the water cycle</td>\n",
       "      <td>c</td>\n",
       "      <td>Clouds</td>\n",
       "      <td>Atacama desert</td>\n",
       "      <td>Forest</td>\n",
       "    </tr>\n",
       "    <tr>\n",
       "      <th>1</th>\n",
       "      <td>20</td>\n",
       "      <td>climate and its causes</td>\n",
       "      <td>How many arrows are in the diagram?</td>\n",
       "      <td>3</td>\n",
       "      <td>4</td>\n",
       "      <td>2</td>\n",
       "      <td>6</td>\n",
       "      <td>6</td>\n",
       "      <td>../Dataset/test/question_images/rain_shadow_75...</td>\n",
       "      <td>No</td>\n",
       "      <td>a diagram of the water cycle</td>\n",
       "      <td>a</td>\n",
       "      <td>3</td>\n",
       "      <td>3</td>\n",
       "      <td>6</td>\n",
       "    </tr>\n",
       "    <tr>\n",
       "      <th>2</th>\n",
       "      <td>32</td>\n",
       "      <td>climate and its causes</td>\n",
       "      <td>In the diagram, how many slopes does the mount...</td>\n",
       "      <td>3</td>\n",
       "      <td>4</td>\n",
       "      <td>2</td>\n",
       "      <td>1</td>\n",
       "      <td>2</td>\n",
       "      <td>../Dataset/test/question_images/rain_shadow_75...</td>\n",
       "      <td>No</td>\n",
       "      <td>a diagram of a mountain with a few different t...</td>\n",
       "      <td>a</td>\n",
       "      <td>3</td>\n",
       "      <td>3</td>\n",
       "      <td>2</td>\n",
       "    </tr>\n",
       "    <tr>\n",
       "      <th>3</th>\n",
       "      <td>47</td>\n",
       "      <td>climate and its causes</td>\n",
       "      <td>Where does the rain shadow occur?</td>\n",
       "      <td>Wet Leeward Side</td>\n",
       "      <td>Dry Leeward Side</td>\n",
       "      <td>Dry Windward Slope</td>\n",
       "      <td>Rainy Windward SLope</td>\n",
       "      <td>Dry Leeward Side</td>\n",
       "      <td>../Dataset/test/question_images/rain_shadow_75...</td>\n",
       "      <td>No</td>\n",
       "      <td>a diagram of a mountain with a few different t...</td>\n",
       "      <td>c</td>\n",
       "      <td>Dry Windward Slope</td>\n",
       "      <td>Dry Windward Slope</td>\n",
       "      <td>Dry Leeward Side</td>\n",
       "    </tr>\n",
       "    <tr>\n",
       "      <th>4</th>\n",
       "      <td>52</td>\n",
       "      <td>climate and its causes</td>\n",
       "      <td>What happens after dry air is warmed?</td>\n",
       "      <td>windward slide</td>\n",
       "      <td>leeward slide</td>\n",
       "      <td>zone of precipitation</td>\n",
       "      <td>rain shadow desert</td>\n",
       "      <td>rain shadow desert</td>\n",
       "      <td>../Dataset/test/question_images/rain_shadow_81...</td>\n",
       "      <td>No</td>\n",
       "      <td>a diagram of a mountain with a few different t...</td>\n",
       "      <td>c</td>\n",
       "      <td>zone of precipitation</td>\n",
       "      <td>Leeward slide</td>\n",
       "      <td>rain shadow desert</td>\n",
       "    </tr>\n",
       "  </tbody>\n",
       "</table>\n",
       "</div>"
      ],
      "text/plain": [
       "   Unnamed: 0             lesson_name  \\\n",
       "0          19  climate and its causes   \n",
       "1          20  climate and its causes   \n",
       "2          32  climate and its causes   \n",
       "3          47  climate and its causes   \n",
       "4          52  climate and its causes   \n",
       "\n",
       "                                       question_name   answer_choice_1  \\\n",
       "0     Moist air comes from what area in the diagram?    Atacama desert   \n",
       "1                How many arrows are in the diagram?                 3   \n",
       "2  In the diagram, how many slopes does the mount...                 3   \n",
       "3                  Where does the rain shadow occur?  Wet Leeward Side   \n",
       "4              What happens after dry air is warmed?    windward slide   \n",
       "\n",
       "    answer_choice_2        answer_choice_3       answer_choice_4  \\\n",
       "0  The Andes slopes                 Clouds                Forest   \n",
       "1                 4                      2                     6   \n",
       "2                 4                      2                     1   \n",
       "3  Dry Leeward Side     Dry Windward Slope  Rainy Windward SLope   \n",
       "4     leeward slide  zone of precipitation    rain shadow desert   \n",
       "\n",
       "       correct_answer                                         image_path  \\\n",
       "0              Forest  ../Dataset/test/question_images/rain_shadow_75...   \n",
       "1                   6  ../Dataset/test/question_images/rain_shadow_75...   \n",
       "2                   2  ../Dataset/test/question_images/rain_shadow_75...   \n",
       "3    Dry Leeward Side  ../Dataset/test/question_images/rain_shadow_75...   \n",
       "4  rain shadow desert  ../Dataset/test/question_images/rain_shadow_81...   \n",
       "\n",
       "  image_has_labels_to_guess  \\\n",
       "0                        No   \n",
       "1                        No   \n",
       "2                        No   \n",
       "3                        No   \n",
       "4                        No   \n",
       "\n",
       "                                             caption blip_2_generated_answers  \\\n",
       "0                       a diagram of the water cycle                        c   \n",
       "1                       a diagram of the water cycle                        a   \n",
       "2  a diagram of a mountain with a few different t...                        a   \n",
       "3  a diagram of a mountain with a few different t...                        c   \n",
       "4  a diagram of a mountain with a few different t...                        c   \n",
       "\n",
       "      mapped_predictions llava_generated_answers gpt4_generated_answers  \n",
       "0                 Clouds          Atacama desert                 Forest  \n",
       "1                      3                       3                      6  \n",
       "2                      3                       3                      2  \n",
       "3     Dry Windward Slope      Dry Windward Slope       Dry Leeward Side  \n",
       "4  zone of precipitation           Leeward slide     rain shadow desert  "
      ]
     },
     "execution_count": 187,
     "metadata": {},
     "output_type": "execute_result"
    }
   ],
   "source": [
    "all_common_preds = pd.merge(common_blip_llava_preds, filtered_df)\n",
    "all_common_preds.head()"
   ]
  },
  {
   "cell_type": "code",
   "execution_count": 188,
   "id": "05cac436",
   "metadata": {},
   "outputs": [
    {
     "data": {
      "text/plain": [
       "(403, 15)"
      ]
     },
     "execution_count": 188,
     "metadata": {},
     "output_type": "execute_result"
    }
   ],
   "source": [
    "all_common_preds.shape"
   ]
  },
  {
   "cell_type": "markdown",
   "id": "123ca162",
   "metadata": {},
   "source": [
    "Query GPT-4 to create image descriptions of all images in the above dataframe. The goat is to integrate these GPT-4 generated image descriptions into our BLIP-2 and LLaVA prompts to judge whether the added context helps them answer a question they struggled with earlier correctly now."
   ]
  },
  {
   "cell_type": "code",
   "execution_count": 2,
   "id": "431932f0",
   "metadata": {},
   "outputs": [],
   "source": [
    "# Function to encode the image\n",
    "def encode_image(image_path):\n",
    "    with open(image_path, \"rb\") as image_file:\n",
    "        return base64.b64encode(image_file.read()).decode('utf-8')\n",
    "\n",
    "# Prompt GPT for VQA task\n",
    "def prompt_gpt(text, base64_image):\n",
    "    headers = {\n",
    "        \"Content-Type\": \"application/json\",\n",
    "        \"Authorization\": f\"Bearer {openai_api_key}\"\n",
    "    }\n",
    "\n",
    "    payload = {\n",
    "        \"model\": \"gpt-4-vision-preview\",\n",
    "        \"messages\": [\n",
    "          {\n",
    "            \"role\": \"user\",\n",
    "            \"content\": [\n",
    "              {\n",
    "                \"type\": \"text\",\n",
    "                \"text\": text\n",
    "              },\n",
    "              {\n",
    "                \"type\": \"image_url\",\n",
    "                \"image_url\": {\n",
    "                  \"url\": f\"data:image/jpeg;base64,{base64_image}\"\n",
    "                }\n",
    "              }\n",
    "            ]\n",
    "          }\n",
    "        ],\n",
    "        \"max_tokens\": 300\n",
    "    }\n",
    "\n",
    "    response = requests.post(\"https://api.openai.com/v1/chat/completions\", headers=headers, json=payload)\n",
    "\n",
    "    return response.json()"
   ]
  },
  {
   "cell_type": "code",
   "execution_count": 190,
   "id": "1b5a0aab",
   "metadata": {},
   "outputs": [],
   "source": [
    "all_common_preds[\"image_description\"] = None\n",
    "all_common_preds.drop(columns=[\"Unnamed: 0\", \"blip_2_generated_answers\", \"mapped_predictions\", \"llava_generated_answers\", \"gpt4_generated_answers\"], inplace=True)\n",
    "all_common_preds.to_csv(\"common_blip2_llava_gpt4_preds.csv\", index=False)"
   ]
  },
  {
   "cell_type": "code",
   "execution_count": 5,
   "id": "68d308e3",
   "metadata": {},
   "outputs": [],
   "source": [
    "# Read CSV file and make predictions\n",
    "all_common_preds = pd.read_csv(\"common_blip2_llava_gpt4_preds.csv\")\n",
    "image_description_map = {}"
   ]
  },
  {
   "cell_type": "code",
   "execution_count": 208,
   "id": "76b46999",
   "metadata": {},
   "outputs": [],
   "source": [
    "# Get image descriptions from GPT-4\n",
    "for idx, image_path in enumerate(all_common_preds[\"image_path\"]):\n",
    "    if pd.isna(all_common_preds.loc[idx, \"image_description\"]):\n",
    "        # If an image description has already been generated before, then we don't need to prompt the GPT-4 API again\n",
    "        if image_path in image_description_map:\n",
    "            all_common_preds.loc[idx, \"image_description\"] = image_description_map[image_path]\n",
    "        else:\n",
    "            # Get base64 string version of the image\n",
    "            base64_image = encode_image(all_common_preds.loc[idx, \"image_path\"])\n",
    "\n",
    "            # Build prompt to generate image description\n",
    "            prompt = f\"Give a brief 3-4 line description of this image.\"\n",
    "            gpt_json_result = prompt_gpt(prompt, base64_image)\n",
    "\n",
    "            if (\"error\" in gpt_json_result):\n",
    "                print(all_common_preds.loc[idx, \"image_path\"])\n",
    "                print(gpt_json_result)\n",
    "                # Rate Limits can be reached, hence we have to manually run this function multiple times in order\n",
    "                # to get all the results of our MCQ questions in the dataset\n",
    "                print(\"Rate limit exceed. Exiting loop...\")\n",
    "                break\n",
    "            all_common_preds.loc[idx, \"image_description\"] = gpt_json_result[\"choices\"][0][\"message\"][\"content\"]\n",
    "            image_description_map[image_path] = gpt_json_result[\"choices\"][0][\"message\"][\"content\"]\n",
    "        \n",
    "        # Keep writing intermediate results to CSV file\n",
    "        all_common_preds.to_csv(\"common_blip2_llava_gpt4_preds.csv\")"
   ]
  },
  {
   "cell_type": "code",
   "execution_count": 212,
   "id": "89a591dd",
   "metadata": {},
   "outputs": [],
   "source": [
    "# Remove unnecessary columns\n",
    "#all_common_preds.drop(columns=[\"Unnamed: 0\", \"Unnamed: 0.1\", \"Unnamed: 0.2\", \"Unnamed: 0.3\", \"Unnamed: 0.4\"], inplace=True)\n",
    "all_common_preds.to_csv(\"common_blip2_llava_gpt4_preds.csv\", index=False)"
   ]
  },
  {
   "cell_type": "markdown",
   "id": "efd54626",
   "metadata": {},
   "source": [
    "<h2> Analyze predictions with image descriptions </h2>"
   ]
  },
  {
   "cell_type": "code",
   "execution_count": 3,
   "id": "8c3bddd6",
   "metadata": {},
   "outputs": [],
   "source": [
    "def map_predicted_to_actual(row):\n",
    "    if row['blip_2_generated_answers'] in ['a.', 'a']:\n",
    "        return row['answer_choice_1']\n",
    "    elif row['blip_2_generated_answers'] in ['b', 'b.']:\n",
    "        return row['answer_choice_2']\n",
    "    elif row['blip_2_generated_answers'] in ['c', 'c.']:\n",
    "        return row['answer_choice_3']\n",
    "    elif row['blip_2_generated_answers'] in ['d.', '(d)', 'd']:\n",
    "        return row['answer_choice_4']\n",
    "    else:\n",
    "        return None"
   ]
  },
  {
   "cell_type": "code",
   "execution_count": 32,
   "id": "411b2c36",
   "metadata": {
    "scrolled": true
   },
   "outputs": [],
   "source": [
    "common_preds = pd.read_csv(\"common_blip2_llava_gpt4_preds_img_desc.csv\")\n",
    "common_preds['mapped_blip2_predictions'] = common_preds.apply(map_predicted_to_actual, axis=1)"
   ]
  },
  {
   "cell_type": "code",
   "execution_count": 33,
   "id": "d80dd61e",
   "metadata": {},
   "outputs": [],
   "source": [
    "# Focusing on LLaVA predictions first\n",
    "common_llava_wrong_preds = common_preds[common_preds[\"correct_answer\"].str.lower() != common_preds[\"llava_generated_answers\"].str.lower()]\n",
    "common_llava_wrong_preds.to_csv(\"common_llava_wrong_preds.csv\", index=False)\n",
    "common_llava_correct_preds = common_preds[common_preds[\"correct_answer\"].str.lower() == common_preds[\"llava_generated_answers\"].str.lower()]\n",
    "common_llava_correct_preds.to_csv(\"common_llava_correct_preds.csv\", index=False)"
   ]
  },
  {
   "cell_type": "code",
   "execution_count": 36,
   "id": "70bb576c",
   "metadata": {},
   "outputs": [
    {
     "data": {
      "text/plain": [
       "../Dataset/test/abc_question_images/parts_plant_13579.png     4\n",
       "../Dataset/test/abc_question_images/types_leaves_14425.png    4\n",
       "../Dataset/test/abc_question_images/life_cycles_16210.png     4\n",
       "../Dataset/test/abc_question_images/life_cycles_16216.png     4\n",
       "../Dataset/test/abc_question_images/types_leaves_14728.png    3\n",
       "../Dataset/test/abc_question_images/parts_seed_17249.png      3\n",
       "../Dataset/test/abc_question_images/life_cycles_16223.png     3\n",
       "../Dataset/test/abc_question_images/parts_leaf_11090.png      2\n",
       "../Dataset/test/abc_question_images/types_leaves_16313.png    2\n",
       "../Dataset/test/abc_question_images/life_cycles_10831.png     2\n",
       "../Dataset/test/abc_question_images/parts_leaf_10558.png      1\n",
       "../Dataset/test/abc_question_images/parts_plant_11155.png     1\n",
       "../Dataset/test/abc_question_images/parts_plant_16276.png     1\n",
       "../Dataset/test/abc_question_images/types_leaves_11017.png    1\n",
       "../Dataset/test/abc_question_images/life_cycles_10035.png     1\n",
       "../Dataset/test/abc_question_images/life_cycles_11446.png     1\n",
       "Name: image_path, dtype: int64"
      ]
     },
     "execution_count": 36,
     "metadata": {},
     "output_type": "execute_result"
    }
   ],
   "source": [
    "# Get all images without defined labels and whose questions were answered incorrectly by LLaVA\n",
    "val_counts = return_val_counts(common_llava_wrong_preds, \"Yes\")\n",
    "val_counts"
   ]
  },
  {
   "cell_type": "code",
   "execution_count": 37,
   "id": "d7dbc03c",
   "metadata": {},
   "outputs": [
    {
     "data": {
      "text/plain": [
       "../Dataset/test/abc_question_images/life_cycles_10595.png     2\n",
       "../Dataset/test/abc_question_images/life_cycles_16226.png     2\n",
       "../Dataset/test/abc_question_images/parts_plant_13221.png     1\n",
       "../Dataset/test/abc_question_images/types_leaves_14425.png    1\n",
       "../Dataset/test/abc_question_images/types_leaves_14498.png    1\n",
       "../Dataset/test/abc_question_images/parts_seed_13817.png      1\n",
       "../Dataset/test/abc_question_images/life_cycles_10035.png     1\n",
       "../Dataset/test/abc_question_images/life_cycles_10044.png     1\n",
       "../Dataset/test/abc_question_images/life_cycles_10650.png     1\n",
       "../Dataset/test/abc_question_images/life_cycles_12290.png     1\n",
       "../Dataset/test/abc_question_images/life_cycles_12300.png     1\n",
       "../Dataset/test/abc_question_images/life_cycles_12331.png     1\n",
       "../Dataset/test/abc_question_images/life_cycles_16223.png     1\n",
       "../Dataset/test/abc_question_images/life_cycles_16225.png     1\n",
       "Name: image_path, dtype: int64"
      ]
     },
     "execution_count": 37,
     "metadata": {},
     "output_type": "execute_result"
    }
   ],
   "source": [
    "# Get all images without defined labels and whose questions were answered correctly by LLaVA\n",
    "val_counts = return_val_counts(common_llava_correct_preds, \"Yes\")\n",
    "val_counts"
   ]
  },
  {
   "cell_type": "code",
   "execution_count": 43,
   "id": "29b55595",
   "metadata": {},
   "outputs": [
    {
     "data": {
      "text/plain": [
       "../Dataset/test/question_images/life_cycles_592.png             3\n",
       "../Dataset/test/question_images/parts_plant_3791.png            3\n",
       "../Dataset/test/question_images/food_chains_webs_705.png        3\n",
       "../Dataset/test/question_images/parts_flower_3371.png           3\n",
       "../Dataset/test/question_images/food_chains_webs_810.png        3\n",
       "../Dataset/test/question_images/types_leaves_4495.png           3\n",
       "../Dataset/test/question_images/parts_plant_3788.png            3\n",
       "../Dataset/test/question_images/food_chains_webs_2105.png       3\n",
       "../Dataset/test/question_images/life_cycles_2443.png            3\n",
       "../Dataset/test/question_images/life_cycles_619.png             3\n",
       "../Dataset/test/question_images/types_leaves_4387.png           2\n",
       "../Dataset/test/question_images/food_chains_webs_24.png         2\n",
       "../Dataset/test/question_images/parts_flower_1137.png           2\n",
       "../Dataset/test/question_images/types_leaves_1093.png           2\n",
       "../Dataset/test/question_images/food_chains_webs_250.png        2\n",
       "../Dataset/test/question_images/food_chains_webs_2069.png       2\n",
       "../Dataset/test/question_images/food_chains_webs_1997.png       2\n",
       "../Dataset/test/question_images/types_leaves_1028.png           2\n",
       "../Dataset/test/question_images/food_chains_webs_1995.png       2\n",
       "../Dataset/test/question_images/food_chains_webs_1965.png       2\n",
       "../Dataset/test/question_images/types_leaves_6312.png           2\n",
       "../Dataset/test/question_images/food_chains_webs_1842.png       2\n",
       "../Dataset/test/question_images/food_chains_webs_1775.png       2\n",
       "../Dataset/test/question_images/parts_flower_1144.png           2\n",
       "../Dataset/test/question_images/life_cycles_2251.png            2\n",
       "../Dataset/test/question_images/life_cycles_348.png             2\n",
       "../Dataset/test/question_images/life_cycles_2459.png            2\n",
       "../Dataset/test/question_images/life_cycles_6215.png            2\n",
       "../Dataset/test/question_images/rain_shadow_8183.png            2\n",
       "../Dataset/test/question_images/life_cycles_6227.png            2\n",
       "../Dataset/test/question_images/life_cycles_831.png             2\n",
       "../Dataset/test/question_images/life_cycles_884.png             2\n",
       "../Dataset/test/question_images/parts_flower_1156.png           2\n",
       "../Dataset/test/question_images/life_cycles_2175.png            2\n",
       "../Dataset/test/question_images/life_cycles_101.png             2\n",
       "../Dataset/test/question_images/parts_seed_7246.png             2\n",
       "../Dataset/test/question_images/parts_chordate_body_8145.png    2\n",
       "../Dataset/test/question_images/parts_flower_3024.png           2\n",
       "../Dataset/test/question_images/food_chains_webs_303.png        2\n",
       "../Dataset/test/question_images/types_leaves_1026.png           2\n",
       "../Dataset/test/question_images/rain_shadow_7525.png            2\n",
       "../Dataset/test/question_images/food_chains_webs_2099.png       2\n",
       "../Dataset/test/question_images/parts_leaf_1115.png             2\n",
       "../Dataset/test/question_images/food_chains_webs_799.png        2\n",
       "../Dataset/test/question_images/food_chains_webs_6058.png       2\n",
       "../Dataset/test/question_images/food_chains_webs_801.png        2\n",
       "../Dataset/test/question_images/parts_leaf_558.png              2\n",
       "../Dataset/test/question_images/food_chains_webs_811.png        2\n",
       "../Dataset/test/question_images/food_chains_webs_812.png        2\n",
       "../Dataset/test/question_images/food_chains_webs_6053.png       2\n",
       "../Dataset/test/question_images/food_chains_webs_6046.png       2\n",
       "../Dataset/test/question_images/parts_plant_1159.png            2\n",
       "../Dataset/test/question_images/food_chains_webs_822.png        2\n",
       "../Dataset/test/question_images/food_chains_webs_6032.png       2\n",
       "../Dataset/test/question_images/parts_plant_3195.png            2\n",
       "../Dataset/test/question_images/food_chains_webs_324.png        2\n",
       "../Dataset/test/question_images/parts_plant_3799.png            2\n",
       "../Dataset/test/question_images/food_chains_webs_898.png        2\n",
       "../Dataset/test/question_images/parts_leaf_1091.png             2\n",
       "../Dataset/test/question_images/parts_plant_3579.png            2\n",
       "Name: image_path, dtype: int64"
      ]
     },
     "execution_count": 43,
     "metadata": {},
     "output_type": "execute_result"
    }
   ],
   "source": [
    "# Get all images that have defined labels and whose questions were answered incorrectly by LLaVA\n",
    "val_counts = return_val_counts(common_llava_wrong_preds, \"No\")\n",
    "val_counts[0:60]"
   ]
  },
  {
   "cell_type": "code",
   "execution_count": 44,
   "id": "fdae98f5",
   "metadata": {},
   "outputs": [
    {
     "data": {
      "text/plain": [
       "../Dataset/test/question_images/life_cycles_353.png             2\n",
       "../Dataset/test/question_images/food_chains_webs_6057.png       2\n",
       "../Dataset/test/question_images/types_leaves_4408.png           2\n",
       "../Dataset/test/question_images/parts_seed_3817.png             2\n",
       "../Dataset/test/question_images/life_cycles_6226.png            2\n",
       "../Dataset/test/question_images/life_cycles_889.png             2\n",
       "../Dataset/test/question_images/life_cycles_595.png             2\n",
       "../Dataset/test/question_images/life_cycles_6207.png            1\n",
       "../Dataset/test/question_images/life_cycles_885.png             1\n",
       "../Dataset/test/question_images/life_cycles_884.png             1\n",
       "../Dataset/test/question_images/life_cycles_575.png             1\n",
       "../Dataset/test/question_images/life_cycles_849.png             1\n",
       "../Dataset/test/question_images/life_cycles_840.png             1\n",
       "../Dataset/test/question_images/life_cycles_792.png             1\n",
       "../Dataset/test/question_images/life_cycles_608.png             1\n",
       "../Dataset/test/question_images/life_cycles_639.png             1\n",
       "../Dataset/test/question_images/life_cycles_6227.png            1\n",
       "../Dataset/test/question_images/parts_chordate_body_7157.png    1\n",
       "../Dataset/test/question_images/life_cycles_6225.png            1\n",
       "../Dataset/test/question_images/life_cycles_6216.png            1\n",
       "../Dataset/test/question_images/life_cycles_6211.png            1\n",
       "../Dataset/test/question_images/life_cycles_605.png             1\n",
       "../Dataset/test/question_images/life_cycles_791.png             1\n",
       "../Dataset/test/question_images/food_chains_webs_1767.png       1\n",
       "../Dataset/test/question_images/life_cycles_47.png              1\n",
       "../Dataset/test/question_images/food_chains_webs_1768.png       1\n",
       "../Dataset/test/question_images/food_chains_webs_881.png        1\n",
       "../Dataset/test/question_images/food_chains_webs_861.png        1\n",
       "../Dataset/test/question_images/food_chains_webs_822.png        1\n",
       "../Dataset/test/question_images/food_chains_webs_812.png        1\n",
       "../Dataset/test/question_images/food_chains_webs_799.png        1\n",
       "../Dataset/test/question_images/food_chains_webs_6046.png       1\n",
       "../Dataset/test/question_images/food_chains_webs_6040.png       1\n",
       "../Dataset/test/question_images/food_chains_webs_6036.png       1\n",
       "../Dataset/test/question_images/food_chains_webs_6030.png       1\n",
       "../Dataset/test/question_images/food_chains_webs_471.png        1\n",
       "../Dataset/test/question_images/food_chains_webs_435.png        1\n",
       "../Dataset/test/question_images/food_chains_webs_426.png        1\n",
       "../Dataset/test/question_images/food_chains_webs_28.png         1\n",
       "../Dataset/test/question_images/food_chains_webs_250.png        1\n",
       "../Dataset/test/question_images/food_chains_webs_24.png         1\n",
       "../Dataset/test/question_images/food_chains_webs_2098.png       1\n",
       "../Dataset/test/question_images/food_chains_webs_2063.png       1\n",
       "../Dataset/test/question_images/life_cycles_48.png              1\n",
       "../Dataset/test/question_images/rain_shadow_7532.png            1\n",
       "../Dataset/test/question_images/life_cycles_359.png             1\n",
       "../Dataset/test/question_images/parts_plant_6276.png            1\n",
       "../Dataset/test/question_images/types_leaves_4416.png           1\n",
       "../Dataset/test/question_images/types_leaves_4392.png           1\n",
       "../Dataset/test/question_images/types_leaves_1107.png           1\n",
       "../Dataset/test/question_images/types_leaves_1030.png           1\n",
       "../Dataset/test/question_images/types_leaves_1028.png           1\n",
       "../Dataset/test/question_images/types_leaves_1026.png           1\n",
       "../Dataset/test/question_images/types_leaves_1025.png           1\n",
       "../Dataset/test/question_images/types_leaves_1023.png           1\n",
       "../Dataset/test/question_images/parts_plant_3799.png            1\n",
       "../Dataset/test/question_images/rain_shadow_7537.png            1\n",
       "../Dataset/test/question_images/parts_plant_3221.png            1\n",
       "../Dataset/test/question_images/parts_plant_1159.png            1\n",
       "../Dataset/test/question_images/parts_leaf_3840.png             1\n",
       "Name: image_path, dtype: int64"
      ]
     },
     "execution_count": 44,
     "metadata": {},
     "output_type": "execute_result"
    }
   ],
   "source": [
    "# Get all images where label values are provided and LLaVA answered questions correctly\n",
    "val_counts = return_val_counts(common_llava_correct_preds, \"No\")\n",
    "val_counts[:60]"
   ]
  },
  {
   "cell_type": "code",
   "execution_count": 45,
   "id": "19fcbd93",
   "metadata": {},
   "outputs": [],
   "source": [
    "# Focusing on BLIP-2 predictions\n",
    "common_blip2_wrong_preds = common_preds[common_preds[\"correct_answer\"].str.lower() != common_preds[\"mapped_blip2_predictions\"].str.lower()]\n",
    "common_blip2_wrong_preds.to_csv(\"common_blip2_wrong_preds.csv\", index=False)\n",
    "common_blip2_correct_preds = common_preds[common_preds[\"correct_answer\"].str.lower() == common_preds[\"mapped_blip2_predictions\"].str.lower()]\n",
    "common_blip2_correct_preds.to_csv(\"common_blip2_correct_preds.csv\", index=False)"
   ]
  },
  {
   "cell_type": "code",
   "execution_count": 46,
   "id": "3078b769",
   "metadata": {},
   "outputs": [
    {
     "data": {
      "text/plain": [
       "../Dataset/test/abc_question_images/types_leaves_14425.png    5\n",
       "../Dataset/test/abc_question_images/life_cycles_16223.png     4\n",
       "../Dataset/test/abc_question_images/life_cycles_16216.png     4\n",
       "../Dataset/test/abc_question_images/life_cycles_16210.png     4\n",
       "../Dataset/test/abc_question_images/parts_plant_13579.png     4\n",
       "../Dataset/test/abc_question_images/parts_seed_17249.png      3\n",
       "../Dataset/test/abc_question_images/types_leaves_14728.png    3\n",
       "../Dataset/test/abc_question_images/parts_leaf_11090.png      2\n",
       "../Dataset/test/abc_question_images/types_leaves_16313.png    2\n",
       "../Dataset/test/abc_question_images/life_cycles_10831.png     2\n",
       "../Dataset/test/abc_question_images/types_leaves_11017.png    1\n",
       "../Dataset/test/abc_question_images/types_leaves_14498.png    1\n",
       "../Dataset/test/abc_question_images/parts_seed_13817.png      1\n",
       "../Dataset/test/abc_question_images/parts_plant_16276.png     1\n",
       "../Dataset/test/abc_question_images/life_cycles_11446.png     1\n",
       "../Dataset/test/abc_question_images/parts_plant_13221.png     1\n",
       "../Dataset/test/abc_question_images/parts_plant_11155.png     1\n",
       "../Dataset/test/abc_question_images/parts_leaf_10558.png      1\n",
       "Name: image_path, dtype: int64"
      ]
     },
     "execution_count": 46,
     "metadata": {},
     "output_type": "execute_result"
    }
   ],
   "source": [
    "# Get all images where label values are not provided and BLIP-2 answered questions incorrectly.\n",
    "val_counts = return_val_counts(common_blip2_wrong_preds, \"Yes\")\n",
    "val_counts"
   ]
  },
  {
   "cell_type": "code",
   "execution_count": 47,
   "id": "f2c51295",
   "metadata": {},
   "outputs": [
    {
     "data": {
      "text/plain": [
       "../Dataset/test/abc_question_images/life_cycles_10035.png    2\n",
       "../Dataset/test/abc_question_images/life_cycles_10595.png    2\n",
       "../Dataset/test/abc_question_images/life_cycles_16226.png    2\n",
       "../Dataset/test/abc_question_images/life_cycles_10044.png    1\n",
       "../Dataset/test/abc_question_images/life_cycles_10650.png    1\n",
       "../Dataset/test/abc_question_images/life_cycles_12290.png    1\n",
       "../Dataset/test/abc_question_images/life_cycles_12300.png    1\n",
       "../Dataset/test/abc_question_images/life_cycles_12331.png    1\n",
       "../Dataset/test/abc_question_images/life_cycles_16225.png    1\n",
       "Name: image_path, dtype: int64"
      ]
     },
     "execution_count": 47,
     "metadata": {},
     "output_type": "execute_result"
    }
   ],
   "source": [
    "# Get all images where label values are not provided and BLIP-2 answered questions correctly.\n",
    "val_counts = return_val_counts(common_blip2_correct_preds, \"Yes\")\n",
    "val_counts"
   ]
  },
  {
   "cell_type": "code",
   "execution_count": 55,
   "id": "ce457309",
   "metadata": {},
   "outputs": [
    {
     "data": {
      "text/plain": [
       "../Dataset/test/question_images/life_cycles_884.png             3\n",
       "../Dataset/test/question_images/types_leaves_4495.png           3\n",
       "../Dataset/test/question_images/rain_shadow_7525.png            2\n",
       "../Dataset/test/question_images/food_chains_webs_2069.png       2\n",
       "../Dataset/test/question_images/food_chains_webs_6032.png       2\n",
       "../Dataset/test/question_images/food_chains_webs_435.png        2\n",
       "../Dataset/test/question_images/food_chains_webs_324.png        2\n",
       "../Dataset/test/question_images/food_chains_webs_303.png        2\n",
       "../Dataset/test/question_images/types_leaves_1028.png           2\n",
       "../Dataset/test/question_images/food_chains_webs_24.png         2\n",
       "../Dataset/test/question_images/food_chains_webs_2099.png       2\n",
       "../Dataset/test/question_images/types_leaves_6312.png           2\n",
       "../Dataset/test/question_images/parts_plant_3579.png            2\n",
       "../Dataset/test/question_images/food_chains_webs_1965.png       2\n",
       "../Dataset/test/question_images/parts_flower_1137.png           2\n",
       "../Dataset/test/question_images/food_chains_webs_1842.png       2\n",
       "../Dataset/test/question_images/parts_flower_3024.png           2\n",
       "../Dataset/test/question_images/food_chains_webs_1767.png       2\n",
       "../Dataset/test/question_images/life_cycles_2251.png            2\n",
       "../Dataset/test/question_images/life_cycles_2451.png            2\n",
       "../Dataset/test/question_images/parts_plant_3788.png            2\n",
       "../Dataset/test/question_images/types_leaves_1093.png           2\n",
       "../Dataset/test/question_images/food_chains_webs_810.png        2\n",
       "../Dataset/test/question_images/food_chains_webs_6053.png       2\n",
       "../Dataset/test/question_images/parts_leaf_1091.png             2\n",
       "../Dataset/test/question_images/parts_leaf_1115.png             2\n",
       "../Dataset/test/question_images/parts_leaf_1095.png             2\n",
       "../Dataset/test/question_images/food_chains_webs_705.png        2\n",
       "../Dataset/test/question_images/food_chains_webs_6036.png       1\n",
       "../Dataset/test/question_images/parts_chordate_body_7151.png    1\n",
       "../Dataset/test/question_images/food_chains_webs_1884.png       1\n",
       "../Dataset/test/question_images/food_chains_webs_821.png        1\n",
       "../Dataset/test/question_images/food_chains_webs_1768.png       1\n",
       "../Dataset/test/question_images/food_chains_webs_822.png        1\n",
       "../Dataset/test/question_images/parts_chordate_body_7163.png    1\n",
       "../Dataset/test/question_images/food_chains_webs_867.png        1\n",
       "../Dataset/test/question_images/life_cycles_885.png             1\n",
       "../Dataset/test/question_images/food_chains_webs_1941.png       1\n",
       "../Dataset/test/question_images/life_cycles_831.png             1\n",
       "../Dataset/test/question_images/life_cycles_6229.png            1\n",
       "../Dataset/test/question_images/life_cycles_6227.png            1\n",
       "../Dataset/test/question_images/life_cycles_6222.png            1\n",
       "../Dataset/test/question_images/life_cycles_6213.png            1\n",
       "../Dataset/test/question_images/life_cycles_619.png             1\n",
       "../Dataset/test/question_images/food_chains_webs_812.png        1\n",
       "../Dataset/test/question_images/food_chains_webs_1981.png       1\n",
       "../Dataset/test/question_images/food_chains_webs_811.png        1\n",
       "../Dataset/test/question_images/food_chains_webs_6046.png       1\n",
       "../Dataset/test/question_images/food_chains_webs_6030.png       1\n",
       "../Dataset/test/question_images/food_chains_webs_500.png        1\n",
       "../Dataset/test/question_images/food_chains_webs_426.png        1\n",
       "../Dataset/test/question_images/food_chains_webs_6055.png       1\n",
       "../Dataset/test/question_images/food_chains_webs_316.png        1\n",
       "../Dataset/test/question_images/food_chains_webs_6056.png       1\n",
       "../Dataset/test/question_images/food_chains_webs_6057.png       1\n",
       "../Dataset/test/question_images/food_chains_webs_259.png        1\n",
       "../Dataset/test/question_images/life_cycles_592.png             1\n",
       "../Dataset/test/question_images/food_chains_webs_250.png        1\n",
       "../Dataset/test/question_images/food_chains_webs_6058.png       1\n",
       "../Dataset/test/question_images/food_chains_webs_249.png        1\n",
       "Name: image_path, dtype: int64"
      ]
     },
     "execution_count": 55,
     "metadata": {},
     "output_type": "execute_result"
    }
   ],
   "source": [
    "# Get all images where label values are provided and BLIP-2 answered questions incorrectly\n",
    "val_counts = return_val_counts(common_blip2_wrong_preds, \"No\")\n",
    "val_counts[:60]"
   ]
  },
  {
   "cell_type": "code",
   "execution_count": 56,
   "id": "94cc86a2",
   "metadata": {},
   "outputs": [
    {
     "data": {
      "text/plain": [
       "../Dataset/test/question_images/life_cycles_2175.png            3\n",
       "../Dataset/test/question_images/food_chains_webs_2105.png       3\n",
       "../Dataset/test/question_images/life_cycles_2443.png            3\n",
       "../Dataset/test/question_images/parts_flower_3371.png           3\n",
       "../Dataset/test/question_images/life_cycles_2459.png            2\n",
       "../Dataset/test/question_images/types_leaves_4387.png           2\n",
       "../Dataset/test/question_images/types_leaves_4408.png           2\n",
       "../Dataset/test/question_images/life_cycles_595.png             2\n",
       "../Dataset/test/question_images/food_chains_webs_1775.png       2\n",
       "../Dataset/test/question_images/parts_chordate_body_8145.png    2\n",
       "../Dataset/test/question_images/life_cycles_889.png             2\n",
       "../Dataset/test/question_images/parts_flower_1144.png           2\n",
       "../Dataset/test/question_images/parts_seed_3817.png             2\n",
       "../Dataset/test/question_images/life_cycles_6227.png            2\n",
       "../Dataset/test/question_images/life_cycles_6226.png            2\n",
       "../Dataset/test/question_images/life_cycles_6216.png            2\n",
       "../Dataset/test/question_images/types_leaves_1026.png           2\n",
       "../Dataset/test/question_images/life_cycles_2333.png            2\n",
       "../Dataset/test/question_images/life_cycles_6215.png            2\n",
       "../Dataset/test/question_images/life_cycles_6211.png            2\n",
       "../Dataset/test/question_images/life_cycles_2383.png            2\n",
       "../Dataset/test/question_images/life_cycles_619.png             2\n",
       "../Dataset/test/question_images/life_cycles_342.png             2\n",
       "../Dataset/test/question_images/life_cycles_345.png             2\n",
       "../Dataset/test/question_images/life_cycles_348.png             2\n",
       "../Dataset/test/question_images/life_cycles_35.png              2\n",
       "../Dataset/test/question_images/life_cycles_353.png             2\n",
       "../Dataset/test/question_images/life_cycles_47.png              2\n",
       "../Dataset/test/question_images/life_cycles_575.png             2\n",
       "../Dataset/test/question_images/food_chains_webs_250.png        2\n",
       "../Dataset/test/question_images/food_chains_webs_1995.png       2\n",
       "../Dataset/test/question_images/food_chains_webs_28.png         2\n",
       "../Dataset/test/question_images/parts_plant_3799.png            2\n",
       "../Dataset/test/question_images/rain_shadow_8183.png            2\n",
       "../Dataset/test/question_images/food_chains_webs_861.png        2\n",
       "../Dataset/test/question_images/food_chains_webs_822.png        2\n",
       "../Dataset/test/question_images/food_chains_webs_812.png        2\n",
       "../Dataset/test/question_images/food_chains_webs_799.png        2\n",
       "../Dataset/test/question_images/parts_plant_1159.png            2\n",
       "../Dataset/test/question_images/food_chains_webs_6057.png       2\n",
       "../Dataset/test/question_images/food_chains_webs_6046.png       2\n",
       "../Dataset/test/question_images/parts_plant_3791.png            2\n",
       "../Dataset/test/question_images/life_cycles_592.png             2\n",
       "../Dataset/test/question_images/food_chains_webs_426.png        2\n",
       "../Dataset/test/question_images/food_chains_webs_1997.png       1\n",
       "../Dataset/test/question_images/food_chains_webs_816.png        1\n",
       "../Dataset/test/question_images/life_cycles_6217.png            1\n",
       "../Dataset/test/question_images/food_chains_webs_2063.png       1\n",
       "../Dataset/test/question_images/food_chains_webs_801.png        1\n",
       "../Dataset/test/question_images/food_chains_webs_808.png        1\n",
       "../Dataset/test/question_images/food_chains_webs_810.png        1\n",
       "../Dataset/test/question_images/food_chains_webs_811.png        1\n",
       "../Dataset/test/question_images/life_cycles_6207.png            1\n",
       "../Dataset/test/question_images/food_chains_webs_2098.png       1\n",
       "../Dataset/test/question_images/life_cycles_608.png             1\n",
       "../Dataset/test/question_images/food_chains_webs_1990.png       1\n",
       "../Dataset/test/question_images/life_cycles_606.png             1\n",
       "../Dataset/test/question_images/food_chains_webs_414.png        1\n",
       "../Dataset/test/question_images/food_chains_webs_881.png        1\n",
       "../Dataset/test/question_images/food_chains_webs_896.png        1\n",
       "Name: image_path, dtype: int64"
      ]
     },
     "execution_count": 56,
     "metadata": {},
     "output_type": "execute_result"
    }
   ],
   "source": [
    "# Get all images where label values are provided and BLIP-2 answered questions correctly\n",
    "val_counts = return_val_counts(common_blip2_correct_preds, \"No\")\n",
    "val_counts[:60]"
   ]
  }
 ],
 "metadata": {
  "kernelspec": {
   "display_name": "Python 3 (ipykernel)",
   "language": "python",
   "name": "python3"
  },
  "language_info": {
   "codemirror_mode": {
    "name": "ipython",
    "version": 3
   },
   "file_extension": ".py",
   "mimetype": "text/x-python",
   "name": "python",
   "nbconvert_exporter": "python",
   "pygments_lexer": "ipython3",
   "version": "3.9.13"
  }
 },
 "nbformat": 4,
 "nbformat_minor": 5
}
