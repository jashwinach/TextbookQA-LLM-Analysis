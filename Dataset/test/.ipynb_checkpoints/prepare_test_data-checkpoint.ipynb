{
 "cells": [
  {
   "cell_type": "code",
   "execution_count": 1,
   "id": "98e1e3b8",
   "metadata": {},
   "outputs": [],
   "source": [
    "import pandas as pd\n",
    "import json"
   ]
  },
  {
   "cell_type": "code",
   "execution_count": 2,
   "id": "3bb2e72f",
   "metadata": {},
   "outputs": [],
   "source": [
    "# Read json data\n",
    "json_data = []\n",
    "with open('tqa_v2_test.json', 'r') as file:\n",
    "    json_data = json.load(file)"
   ]
  },
  {
   "cell_type": "code",
   "execution_count": 16,
   "id": "b30cf1a9",
   "metadata": {},
   "outputs": [],
   "source": [
    "diagram_questions = []\n",
    "non_diagram_mcq_questions = []\n",
    "non_diagram_true_false_questions = []\n",
    "\n",
    "# Extract all diagram and non-diagram questions from the json file\n",
    "for lesson_data in json_data:\n",
    "    lesson_name = lesson_data[\"lessonName\"]\n",
    "    diagram_question_data = lesson_data[\"questions\"][\"diagramQuestions\"]\n",
    "    non_diagram_question_data = lesson_data[\"questions\"][\"nonDiagramQuestions\"]\n",
    "    \n",
    "    # If there is an accompanying diagram\n",
    "    if len(diagram_question_data) != 0:\n",
    "        for _, question_details in diagram_question_data.items():\n",
    "            question = question_details[\"beingAsked\"][\"processedText\"]\n",
    "            answer_choice_1 = question_details[\"answerChoices\"][\"a\"][\"processedText\"]\n",
    "            answer_choice_2 = question_details[\"answerChoices\"][\"b\"][\"processedText\"]\n",
    "            answer_choice_3 = question_details[\"answerChoices\"][\"c\"][\"processedText\"]\n",
    "            answer_choice_4 = question_details[\"answerChoices\"][\"d\"][\"processedText\"]\n",
    "            \n",
    "            correct_option = question_details[\"correctAnswer\"][\"processedText\"]\n",
    "            correct_answer = question_details[\"answerChoices\"][correct_option][\"processedText\"]\n",
    "            \n",
    "            image_path = question_details[\"imagePath\"]\n",
    "            image_has_labels_to_guess = \"Yes\" if image_path.startswith(\"abc_question_images\") else \"No\"\n",
    "\n",
    "            diagram_questions.append({\n",
    "                \"lesson_name\": lesson_name,\n",
    "                \"question_name\": question,\n",
    "                \"answer_choice_1\": answer_choice_1,\n",
    "                \"answer_choice_2\": answer_choice_2,\n",
    "                \"answer_choice_3\": answer_choice_3,\n",
    "                \"answer_choice_4\": answer_choice_4,\n",
    "                \"correct_answer\": correct_answer,\n",
    "                \"image_path\": \"./\" + image_path,\n",
    "                \"image_has_labels_to_guess\": image_has_labels_to_guess\n",
    "            })\n",
    "    \n",
    "    # If there is no accompanying diagram\n",
    "    if len(non_diagram_question_data) != 0:\n",
    "        for _, question_details in non_diagram_question_data.items():\n",
    "            # Handle regular MCQ type questions\n",
    "            if question_details[\"questionSubType\"] == \"Multiple Choice\":\n",
    "                question = question_details[\"beingAsked\"][\"processedText\"]\n",
    "                answer_choice_1 = question_details[\"answerChoices\"][\"a\"][\"processedText\"]\n",
    "                answer_choice_2 = question_details[\"answerChoices\"][\"b\"][\"processedText\"]\n",
    "                answer_choice_3 = question_details[\"answerChoices\"][\"c\"][\"processedText\"] if \"c\" in question_details[\"answerChoices\"] else None\n",
    "                answer_choice_4 = question_details[\"answerChoices\"][\"d\"][\"processedText\"]\n",
    "                \n",
    "                correct_option = question_details[\"correctAnswer\"][\"processedText\"]\n",
    "                correct_answer = question_details[\"answerChoices\"][correct_option][\"processedText\"]\n",
    "                    \n",
    "                non_diagram_mcq_questions.append({\n",
    "                    \"lesson_name\": lesson_name,\n",
    "                    \"question_name\": question,\n",
    "                    \"answer_choice_1\": answer_choice_1,\n",
    "                    \"answer_choice_2\": answer_choice_2,\n",
    "                    \"answer_choice_3\": answer_choice_3,\n",
    "                    \"answer_choice_4\": answer_choice_4,\n",
    "                    \"correct_answer\": correct_answer\n",
    "                })\n",
    "            # Handle True/False questions\n",
    "            elif question_details[\"questionSubType\"] == \"True or False\":\n",
    "                question = question_details[\"beingAsked\"][\"processedText\"]\n",
    "                \n",
    "                # Some questions start with one or multiple underscore(_) character(s), so remove them\n",
    "                if \"_\" in question:\n",
    "                    question = question.replace(\"_\", \"\")\n",
    "                \n",
    "                correct_answer = \"true\" if question_details[\"correctAnswer\"][\"processedText\"] == \"a\" else \"false\"\n",
    "                non_diagram_true_false_questions.append({\n",
    "                    \"lesson_name\": lesson_name,\n",
    "                    \"question_name\": question,\n",
    "                    \"answer_choice_1\": \"true\",\n",
    "                    \"answer_choice_2\": \"false\",\n",
    "                    \"correct_answer\": correct_answer\n",
    "                })"
   ]
  },
  {
   "cell_type": "code",
   "execution_count": 17,
   "id": "91b55fd0",
   "metadata": {},
   "outputs": [],
   "source": [
    "from transformers import pipeline\n",
    "\n",
    "# Generate captions for all diagram questions\n",
    "pipe = pipeline(\"image-to-text\", model=\"Salesforce/blip-image-captioning-large\")\n",
    "\n",
    "for question_data in diagram_questions:\n",
    "    image_path = question_data[\"image_path\"]\n",
    "    question_data[\"caption\"] = pipe(image_path)[0][\"generated_text\"]\n",
    "    question_data[\"image_path\"] = \"../Dataset/test\" + image_path[1:]"
   ]
  },
  {
   "cell_type": "code",
   "execution_count": 18,
   "id": "a766f196",
   "metadata": {},
   "outputs": [],
   "source": [
    "# Write all relevant data to CSV files\n",
    "pd.DataFrame(diagram_questions).to_csv(\"DiagramQuestionsData.csv\")\n",
    "pd.DataFrame(non_diagram_mcq_questions).to_csv(\"NonDiagram_MCQ_QuestionsData.csv\")\n",
    "pd.DataFrame(non_diagram_true_false_questions).to_csv(\"NonDiagram_True_False_QuestionsData.csv\")"
   ]
  },
  {
   "cell_type": "code",
   "execution_count": null,
   "id": "8f9172fe",
   "metadata": {},
   "outputs": [],
   "source": []
  },
  {
   "cell_type": "code",
   "execution_count": null,
   "id": "00e011ff",
   "metadata": {},
   "outputs": [],
   "source": []
  },
  {
   "cell_type": "code",
   "execution_count": 4,
   "id": "9fa6a458",
   "metadata": {},
   "outputs": [],
   "source": []
  }
 ],
 "metadata": {
  "kernelspec": {
   "display_name": "Python 3 (ipykernel)",
   "language": "python",
   "name": "python3"
  },
  "language_info": {
   "codemirror_mode": {
    "name": "ipython",
    "version": 3
   },
   "file_extension": ".py",
   "mimetype": "text/x-python",
   "name": "python",
   "nbconvert_exporter": "python",
   "pygments_lexer": "ipython3",
   "version": "3.9.13"
  }
 },
 "nbformat": 4,
 "nbformat_minor": 5
}
